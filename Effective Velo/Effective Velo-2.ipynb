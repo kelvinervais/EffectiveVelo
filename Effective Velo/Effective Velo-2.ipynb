{
 "cells": [
  {
   "cell_type": "code",
   "execution_count": 1,
   "metadata": {},
   "outputs": [],
   "source": [
    "#Here I import the data libraries needed to break down the Trackman CSV files\n",
    "import numpy as np\n",
    "import pandas as pd\n",
    "from datascience import *\n",
    "\n",
    "%matplotlib inline\n",
    "import matplotlib.pyplot as plots\n",
    "plots.style.use('fivethirtyeight')"
   ]
  },
  {
   "cell_type": "code",
   "execution_count": 2,
   "metadata": {},
   "outputs": [
    {
     "data": {
      "text/html": [
       "<table border=\"1\" class=\"dataframe\">\n",
       "    <thead>\n",
       "        <tr>\n",
       "            <th>PitchNo</th> <th>Date</th> <th>Time</th> <th>PaofInning</th> <th>PitchofPa</th> <th>Pitcher</th> <th>PitcherId</th> <th>PitcherThrows</th> <th>PitcherTeam</th> <th>Batter</th> <th>BatterId</th> <th>BatterSide</th> <th>BatterTeam</th> <th>PitcherSet</th> <th>Inning</th> <th>Top/Bottom</th> <th>Outs</th> <th>Balls</th> <th>Strikes</th> <th>TaggedPitchType</th> <th>AutoPitchType</th> <th>PitchCall</th> <th>KorBB</th> <th>HitType</th> <th>PlayResult</th> <th>OutsOnPlay</th> <th>RunsScored</th> <th>Notes</th> <th>RelSpeed</th> <th>VertRelAngle</th> <th>HorzRelAngle</th> <th>SpinRate</th> <th>SpinAxis</th> <th>Tilt</th> <th>RelHeight</th> <th>RelSide</th> <th>Extension</th> <th>VertBreak</th> <th>InducedVertBreak</th> <th>HorzBreak</th> <th>PlateLocHeight</th> <th>PlateLocSide</th> <th>ZoneSpeed</th> <th>VertApprAngle</th> <th>HorzApprAngle</th> <th>ZoneTime</th> <th>ExitSpeed</th> <th>Angle</th> <th>Direction</th> <th>HitSpinRate</th> <th>PositionAt110x</th> <th>PositionAt110y</th> <th>PositionAt110z</th> <th>Distance</th> <th>LastTrackedDistance</th> <th>Bearing</th> <th>HangTime</th> <th>pfxx</th> <th>pfxz</th> <th>x0</th> <th>y0</th> <th>z0</th> <th>vx0</th> <th>vy0</th> <th>vz0</th> <th>ax0</th> <th>ay0</th> <th>az0</th> <th>HomeTeam</th> <th>AwayTeam</th> <th>Stadium</th> <th>Level</th> <th>League</th> <th>GameID</th> <th>PitchUID</th> <th>EffectiveVelo</th> <th>MaxHeight</th> <th>MeasuredDuration</th> <th>SpeedDrop</th> <th>PitchLastMeasuredX</th> <th>PitchLastMeasuredY</th> <th>PitchLastMeasuredZ</th> <th>ContactPositionX</th> <th>ContactPositionY</th> <th>ContactPositionZ</th> <th>GameUID</th>\n",
       "        </tr>\n",
       "    </thead>\n",
       "    <tbody>\n",
       "        <tr>\n",
       "            <td>1      </td> <td>02/14/2020</td> <td>06:01:32 PM</td> <td>1         </td> <td>1        </td> <td>Seminaris, Adam</td> <td>1000066908</td> <td>Left         </td> <td>LON_DIR    </td> <td>McIlwain, Brandon</td> <td>8889825 </td> <td>Right     </td> <td>CAL_BEA   </td> <td>Windup    </td> <td>1     </td> <td>Top       </td> <td>0   </td> <td>0    </td> <td>0      </td> <td>ChangeUp       </td> <td>ChangeUp     </td> <td>StrikeCalled  </td> <td>Undefined</td> <td>Undefined</td> <td>Undefined </td> <td>0         </td> <td>0         </td> <td>nan  </td> <td>80.3968 </td> <td>-1.13933    </td> <td>6.37134     </td> <td>1879.89 </td> <td>105.714 </td> <td>9:30 </td> <td>5.76925  </td> <td>-4.14754</td> <td>6.04913  </td> <td>-37.2504 </td> <td>6.47835         </td> <td>-23.1719 </td> <td>1.60377       </td> <td>-0.156649   </td> <td>72.846   </td> <td>-8.15716     </td> <td>1.99826      </td> <td>0.475943</td> <td>nan      </td> <td>nan    </td> <td>nan      </td> <td>nan        </td> <td>nan           </td> <td>nan           </td> <td>nan           </td> <td>nan     </td> <td>nan                </td> <td>nan     </td> <td>nan     </td> <td>14.5915 </td> <td>3.87987 </td> <td>3.66295</td> <td>50  </td> <td>5.66025</td> <td>-12.3299</td> <td>-116.245</td> <td>-3.37147 </td> <td>19.7396</td> <td>24.096 </td> <td>-26.9253</td> <td>LON_DIR </td> <td>CAL_BEA </td> <td>BlairField</td> <td>NCAA </td> <td>BW    </td> <td>20200214-BlairField-1</td> <td>16d7821d-4f97-11ea-9a79-e4a7a0511e7b</td> <td>79.1951      </td> <td>nan      </td> <td>nan             </td> <td>7.5508   </td> <td>2.25383           </td> <td>1.72289           </td> <td>0.18645           </td> <td>nan             </td> <td>nan             </td> <td>nan             </td> <td>5f9402a1-8da2-4588-ac5c-e76318dd2ed7</td>\n",
       "        </tr>\n",
       "        <tr>\n",
       "            <td>2      </td> <td>02/14/2020</td> <td>06:01:49 PM</td> <td>1         </td> <td>2        </td> <td>Seminaris, Adam</td> <td>1000066908</td> <td>Left         </td> <td>LON_DIR    </td> <td>McIlwain, Brandon</td> <td>8889825 </td> <td>Right     </td> <td>CAL_BEA   </td> <td>Windup    </td> <td>1     </td> <td>Top       </td> <td>0   </td> <td>0    </td> <td>1      </td> <td>Fastball       </td> <td>Fastball     </td> <td>BallCalled    </td> <td>Undefined</td> <td>Undefined</td> <td>Undefined </td> <td>0         </td> <td>0         </td> <td>nan  </td> <td>88.9086 </td> <td>0.118835    </td> <td>4.27543     </td> <td>2098.56 </td> <td>125.801 </td> <td>10:15</td> <td>5.97522  </td> <td>-3.78048</td> <td>5.61045  </td> <td>-23.5649 </td> <td>12.9854         </td> <td>-18.052  </td> <td>4.12269       </td> <td>-1.28723    </td> <td>79.152   </td> <td>-4.34013     </td> <td>0.860516     </td> <td>0.435128</td> <td>nan      </td> <td>nan    </td> <td>nan      </td> <td>nan        </td> <td>nan           </td> <td>nan           </td> <td>nan           </td> <td>nan     </td> <td>nan                </td> <td>nan     </td> <td>nan     </td> <td>11.1959 </td> <td>6.93396 </td> <td>3.42628</td> <td>50  </td> <td>5.97058</td> <td>-9.02823</td> <td>-128.795</td> <td>-0.515849</td> <td>18.3461</td> <td>32.8467</td> <td>-20.8117</td> <td>LON_DIR </td> <td>CAL_BEA </td> <td>BlairField</td> <td>NCAA </td> <td>BW    </td> <td>20200214-BlairField-1</td> <td>21133004-4f97-11ea-9a79-e4a7a0511e7b</td> <td>86.6236      </td> <td>nan      </td> <td>nan             </td> <td>9.75664  </td> <td>-0.987691         </td> <td>3.93513           </td> <td>1.25499           </td> <td>nan             </td> <td>nan             </td> <td>nan             </td> <td>5f9402a1-8da2-4588-ac5c-e76318dd2ed7</td>\n",
       "        </tr>\n",
       "        <tr>\n",
       "            <td>3      </td> <td>02/14/2020</td> <td>06:02:06 PM</td> <td>1         </td> <td>3        </td> <td>Seminaris, Adam</td> <td>1000066908</td> <td>Left         </td> <td>LON_DIR    </td> <td>McIlwain, Brandon</td> <td>8889825 </td> <td>Right     </td> <td>CAL_BEA   </td> <td>Windup    </td> <td>1     </td> <td>Top       </td> <td>0   </td> <td>1    </td> <td>1      </td> <td>Fastball       </td> <td>Fastball     </td> <td>StrikeSwinging</td> <td>Undefined</td> <td>Undefined</td> <td>Undefined </td> <td>0         </td> <td>0         </td> <td>nan  </td> <td>88.998  </td> <td>-0.55312    </td> <td>6.20252     </td> <td>2121.28 </td> <td>119.847 </td> <td>10:00</td> <td>5.81573  </td> <td>-3.89652</td> <td>6.02487  </td> <td>-22.1533 </td> <td>13.9142         </td> <td>-24.3083 </td> <td>3.45437       </td> <td>-0.155855   </td> <td>79.2198  </td> <td>-4.77203     </td> <td>1.58659      </td> <td>0.432245</td> <td>nan      </td> <td>nan    </td> <td>nan      </td> <td>nan        </td> <td>nan           </td> <td>nan           </td> <td>nan           </td> <td>nan     </td> <td>nan                </td> <td>nan     </td> <td>nan     </td> <td>15.4005 </td> <td>7.77519 </td> <td>3.42317</td> <td>50  </td> <td>5.76042</td> <td>-13.2291</td> <td>-128.637</td> <td>-1.93369 </td> <td>25.2089</td> <td>32.4315</td> <td>-19.447 </td> <td>LON_DIR </td> <td>CAL_BEA </td> <td>BlairField</td> <td>NCAA </td> <td>BW    </td> <td>20200214-BlairField-1</td> <td>2a7696c8-4f97-11ea-9a79-e4a7a0511e7b</td> <td>87.2015      </td> <td>nan      </td> <td>nan             </td> <td>9.77819  </td> <td>-1.10682          </td> <td>3.23833           </td> <td>0.0917724         </td> <td>nan             </td> <td>nan             </td> <td>nan             </td> <td>5f9402a1-8da2-4588-ac5c-e76318dd2ed7</td>\n",
       "        </tr>\n",
       "        <tr>\n",
       "            <td>4      </td> <td>02/14/2020</td> <td>06:02:26 PM</td> <td>1         </td> <td>4        </td> <td>Seminaris, Adam</td> <td>1000066908</td> <td>Left         </td> <td>LON_DIR    </td> <td>McIlwain, Brandon</td> <td>8889825 </td> <td>Right     </td> <td>CAL_BEA   </td> <td>Windup    </td> <td>1     </td> <td>Top       </td> <td>0   </td> <td>1    </td> <td>2      </td> <td>Fastball       </td> <td>Fastball     </td> <td>FoulBall      </td> <td>Undefined</td> <td>Undefined</td> <td>Undefined </td> <td>0         </td> <td>0         </td> <td>nan  </td> <td>89.8081 </td> <td>-1.87306    </td> <td>5.82307     </td> <td>2218.88 </td> <td>127.435 </td> <td>10:15</td> <td>6.05207  </td> <td>-3.65457</td> <td>5.7215   </td> <td>-20.2482 </td> <td>15.2994         </td> <td>-20.029  </td> <td>2.61059       </td> <td>0.118356    </td> <td>80.7237  </td> <td>-5.68813     </td> <td>2.05662      </td> <td>0.429118</td> <td>67.8169  </td> <td>31.3691</td> <td>148.46   </td> <td>3262.49    </td> <td>-97.4282      </td> <td>28.7977       </td> <td>51.0659       </td> <td>170.115 </td> <td>63.4358            </td> <td>154.472 </td> <td>2.47036 </td> <td>12.6439 </td> <td>8.83289 </td> <td>3.17941</td> <td>50  </td> <td>5.88269</td> <td>-12.5771</td> <td>-129.839</td> <td>-4.93967 </td> <td>21.2731</td> <td>30.8376</td> <td>-17.3129</td> <td>LON_DIR </td> <td>CAL_BEA </td> <td>BlairField</td> <td>NCAA </td> <td>BW    </td> <td>20200214-BlairField-1</td> <td>3367bf88-4f97-11ea-9a79-e4a7a0511e7b</td> <td>87.8369      </td> <td>30.7627  </td> <td>0.814772        </td> <td>9.08443  </td> <td>1.36272           </td> <td>2.60521           </td> <td>-0.120291         </td> <td>1.05803         </td> <td>2.57476         </td> <td>-0.131141       </td> <td>5f9402a1-8da2-4588-ac5c-e76318dd2ed7</td>\n",
       "        </tr>\n",
       "        <tr>\n",
       "            <td>5      </td> <td>02/14/2020</td> <td>06:02:50 PM</td> <td>1         </td> <td>5        </td> <td>Seminaris, Adam</td> <td>1000066908</td> <td>Left         </td> <td>LON_DIR    </td> <td>McIlwain, Brandon</td> <td>8889825 </td> <td>Right     </td> <td>CAL_BEA   </td> <td>Windup    </td> <td>1     </td> <td>Top       </td> <td>0   </td> <td>1    </td> <td>2      </td> <td>Curveball      </td> <td>Curveball    </td> <td>InPlay        </td> <td>Undefined</td> <td>LineDrive</td> <td>Single    </td> <td>0         </td> <td>0         </td> <td>nan  </td> <td>75.016  </td> <td>0.468327    </td> <td>3.38057     </td> <td>2474.77 </td> <td>329.641 </td> <td>5:00 </td> <td>6.05725  </td> <td>-3.52747</td> <td>5.78084  </td> <td>-60.1642 </td> <td>-9.92208        </td> <td>5.78403  </td> <td>1.48002       </td> <td>0.103139    </td> <td>69.0052  </td> <td>-10.7304     </td> <td>4.46753      </td> <td>0.510159</td> <td>103.86   </td> <td>10.0329</td> <td>-16.5129 </td> <td>858.84     </td> <td>104.687       </td> <td>14.8248       </td> <td>-33.7712      </td> <td>244.34  </td> <td>239.25             </td> <td>-18.1996</td> <td>2.13353 </td> <td>-2.07373</td> <td>-5.48772</td> <td>3.24526</td> <td>50  </td> <td>6.06003</td> <td>-6.59402</td> <td>-108.924</td> <td>-0.77043 </td> <td>-2.4659</td> <td>20.9593</td> <td>-38.6996</td> <td>LON_DIR </td> <td>CAL_BEA </td> <td>BlairField</td> <td>NCAA </td> <td>BW    </td> <td>20200214-BlairField-1</td> <td>454e71b9-4f97-11ea-9a79-e4a7a0511e7b</td> <td>73.8836      </td> <td>15.4499  </td> <td>2.07631         </td> <td>6.01082  </td> <td>2.89918           </td> <td>1.75706           </td> <td>0.012234          </td> <td>2.82104         </td> <td>1.74269         </td> <td>0.00617561      </td> <td>5f9402a1-8da2-4588-ac5c-e76318dd2ed7</td>\n",
       "        </tr>\n",
       "        <tr>\n",
       "            <td>6      </td> <td>02/14/2020</td> <td>06:03:34 PM</td> <td>2         </td> <td>1        </td> <td>Seminaris, Adam</td> <td>1000066908</td> <td>Left         </td> <td>LON_DIR    </td> <td>Baker, Darren    </td> <td>8898752 </td> <td>Left      </td> <td>CAL_BEA   </td> <td>Stretch   </td> <td>1     </td> <td>Top       </td> <td>0   </td> <td>0    </td> <td>0      </td> <td>Fastball       </td> <td>Sinker       </td> <td>StrikeCalled  </td> <td>Undefined</td> <td>Undefined</td> <td>Undefined </td> <td>0         </td> <td>0         </td> <td>nan  </td> <td>86.0557 </td> <td>-0.348549   </td> <td>6.61709     </td> <td>2021.4  </td> <td>102.759 </td> <td>9:30 </td> <td>5.88869  </td> <td>-3.89055</td> <td>6.39566  </td> <td>-32.1762 </td> <td>5.094           </td> <td>-22.6508 </td> <td>2.88467       </td> <td>0.333979    </td> <td>78.5928  </td> <td>-6.42839     </td> <td>2.34413      </td> <td>0.439392</td> <td>nan      </td> <td>nan    </td> <td>nan      </td> <td>nan        </td> <td>nan           </td> <td>nan           </td> <td>nan           </td> <td>nan     </td> <td>nan                </td> <td>nan     </td> <td>nan     </td> <td>14.2731 </td> <td>2.89419 </td> <td>3.42497</td> <td>50  </td> <td>5.84857</td> <td>-13.807 </td> <td>-124.555</td> <td>-1.6751  </td> <td>22.4375</td> <td>24.8595</td> <td>-27.6243</td> <td>LON_DIR </td> <td>CAL_BEA </td> <td>BlairField</td> <td>NCAA </td> <td>BW    </td> <td>20200214-BlairField-1</td> <td>5f506249-4f97-11ea-9a79-e4a7a0511e7b</td> <td>85.783       </td> <td>nan      </td> <td>nan             </td> <td>7.46289  </td> <td>-0.470082         </td> <td>2.66776           </td> <td>-0.408293         </td> <td>nan             </td> <td>nan             </td> <td>nan             </td> <td>5f9402a1-8da2-4588-ac5c-e76318dd2ed7</td>\n",
       "        </tr>\n",
       "        <tr>\n",
       "            <td>7      </td> <td>02/14/2020</td> <td>06:03:55 PM</td> <td>2         </td> <td>2        </td> <td>Seminaris, Adam</td> <td>1000066908</td> <td>Left         </td> <td>LON_DIR    </td> <td>Baker, Darren    </td> <td>8898752 </td> <td>Left      </td> <td>CAL_BEA   </td> <td>Stretch   </td> <td>1     </td> <td>Top       </td> <td>0   </td> <td>0    </td> <td>1      </td> <td>Fastball       </td> <td>Sinker       </td> <td>BallCalled    </td> <td>Undefined</td> <td>Undefined</td> <td>Undefined </td> <td>0         </td> <td>0         </td> <td>nan  </td> <td>89.4105 </td> <td>-2.2781     </td> <td>6.44336     </td> <td>2121.74 </td> <td>108.051 </td> <td>9:30 </td> <td>6.02677  </td> <td>-3.88875</td> <td>5.82822  </td> <td>-25.6306 </td> <td>9.88154         </td> <td>-30.4231 </td> <td>1.75885       </td> <td>-0.409683   </td> <td>81.1681  </td> <td>-7.08766     </td> <td>0.736518     </td> <td>0.428904</td> <td>nan      </td> <td>nan    </td> <td>nan      </td> <td>nan        </td> <td>nan           </td> <td>nan           </td> <td>nan           </td> <td>nan     </td> <td>nan                </td> <td>nan     </td> <td>nan     </td> <td>18.2814 </td> <td>5.994   </td> <td>3.37903</td> <td>50  </td> <td>5.82467</td> <td>-13.5971</td> <td>-129.19 </td> <td>-6.00847 </td> <td>30.7433</td> <td>28.1577</td> <td>-22.0941</td> <td>LON_DIR </td> <td>CAL_BEA </td> <td>BlairField</td> <td>NCAA </td> <td>BW    </td> <td>20200214-BlairField-1</td> <td>69164843-4f97-11ea-9a79-e4a7a0511e7b</td> <td>87.8807      </td> <td>nan      </td> <td>nan             </td> <td>8.24238  </td> <td>2.21054           </td> <td>1.85699           </td> <td>0.420573          </td> <td>nan             </td> <td>nan             </td> <td>nan             </td> <td>5f9402a1-8da2-4588-ac5c-e76318dd2ed7</td>\n",
       "        </tr>\n",
       "        <tr>\n",
       "            <td>8      </td> <td>02/14/2020</td> <td>06:04:20 PM</td> <td>2         </td> <td>3        </td> <td>Seminaris, Adam</td> <td>1000066908</td> <td>Left         </td> <td>LON_DIR    </td> <td>Baker, Darren    </td> <td>8898752 </td> <td>Left      </td> <td>CAL_BEA   </td> <td>Stretch   </td> <td>1     </td> <td>Top       </td> <td>0   </td> <td>1    </td> <td>1      </td> <td>Curveball      </td> <td>Curveball    </td> <td>FoulBall      </td> <td>Undefined</td> <td>Undefined</td> <td>Undefined </td> <td>0         </td> <td>0         </td> <td>nan  </td> <td>75.2563 </td> <td>0.16175     </td> <td>3.94831     </td> <td>2474.43 </td> <td>356.621 </td> <td>6:00 </td> <td>6.21315  </td> <td>-3.85648</td> <td>5.42894  </td> <td>-57.132  </td> <td>-6.62292        </td> <td>0.388225 </td> <td>1.60398       </td> <td>-0.120889   </td> <td>69.2643  </td> <td>-10.397      </td> <td>4.02067      </td> <td>0.511512</td> <td>76.8629  </td> <td>20.2326</td> <td>-55.9665 </td> <td>4133.41    </td> <td>53.7663       </td> <td>26.7476       </td> <td>-95.964       </td> <td>227.907 </td> <td>83.3613            </td> <td>-67.3174</td> <td>2.67538 </td> <td>0.968758</td> <td>-3.5673 </td> <td>3.50621</td> <td>50  </td> <td>6.18858</td> <td>-7.54634</td> <td>-109.169</td> <td>-1.37429 </td> <td>1.16136</td> <td>20.4093</td> <td>-36.4506</td> <td>LON_DIR </td> <td>CAL_BEA </td> <td>BlairField</td> <td>NCAA </td> <td>BW    </td> <td>20200214-BlairField-1</td> <td>7afa60a4-4f97-11ea-9a79-e4a7a0511e7b</td> <td>73.6881      </td> <td>26.9832  </td> <td>0.869125        </td> <td>5.99191  </td> <td>1.88416           </td> <td>1.68953           </td> <td>0.153746          </td> <td>1.69489         </td> <td>1.655           </td> <td>0.140444        </td> <td>5f9402a1-8da2-4588-ac5c-e76318dd2ed7</td>\n",
       "        </tr>\n",
       "        <tr>\n",
       "            <td>9      </td> <td>02/14/2020</td> <td>06:04:49 PM</td> <td>2         </td> <td>4        </td> <td>Seminaris, Adam</td> <td>1000066908</td> <td>Left         </td> <td>LON_DIR    </td> <td>Baker, Darren    </td> <td>8898752 </td> <td>Left      </td> <td>CAL_BEA   </td> <td>Stretch   </td> <td>1     </td> <td>Top       </td> <td>0   </td> <td>1    </td> <td>2      </td> <td>Fastball       </td> <td>Fastball     </td> <td>BallCalled    </td> <td>Undefined</td> <td>Undefined</td> <td>Undefined </td> <td>0         </td> <td>0         </td> <td>nan  </td> <td>89.3469 </td> <td>-3.03796    </td> <td>6.54127     </td> <td>2172.25 </td> <td>128.381 </td> <td>10:15</td> <td>5.93751  </td> <td>-3.46482</td> <td>5.79416  </td> <td>-25.6244 </td> <td>10.1388         </td> <td>-12.8431 </td> <td>0.955439      </td> <td>1.57534     </td> <td>81.1543  </td> <td>-7.82494     </td> <td>4.13988      </td> <td>0.430417</td> <td>nan      </td> <td>nan    </td> <td>nan      </td> <td>nan        </td> <td>nan           </td> <td>nan           </td> <td>nan           </td> <td>nan     </td> <td>nan                </td> <td>nan     </td> <td>nan     </td> <td>8.89244 </td> <td>6.38042 </td> <td>2.93285</td> <td>50  </td> <td>5.6709 </td> <td>-14.3673</td> <td>-128.959</td> <td>-7.72683 </td> <td>14.8565</td> <td>28.7995</td> <td>-21.5143</td> <td>LON_DIR </td> <td>CAL_BEA </td> <td>BlairField</td> <td>NCAA </td> <td>BW    </td> <td>20200214-BlairField-1</td> <td>8c3efe9d-4f97-11ea-9a79-e4a7a0511e7b</td> <td>87.5717      </td> <td>nan      </td> <td>nan             </td> <td>8.19264  </td> <td>4.80916           </td> <td>1.41235           </td> <td>-1.32451          </td> <td>nan             </td> <td>nan             </td> <td>nan             </td> <td>5f9402a1-8da2-4588-ac5c-e76318dd2ed7</td>\n",
       "        </tr>\n",
       "        <tr>\n",
       "            <td>10     </td> <td>02/14/2020</td> <td>06:05:36 PM</td> <td>2         </td> <td>5        </td> <td>Seminaris, Adam</td> <td>1000066908</td> <td>Left         </td> <td>LON_DIR    </td> <td>Baker, Darren    </td> <td>8898752 </td> <td>Left      </td> <td>CAL_BEA   </td> <td>Stretch   </td> <td>1     </td> <td>Top       </td> <td>0   </td> <td>2    </td> <td>2      </td> <td>ChangeUp       </td> <td>Slider       </td> <td>FoulBall      </td> <td>Undefined</td> <td>Undefined</td> <td>Undefined </td> <td>0         </td> <td>0         </td> <td>nan  </td> <td>80.8712 </td> <td>-0.227879   </td> <td>4.07969     </td> <td>2070.48 </td> <td>139.292 </td> <td>10:45</td> <td>5.93043  </td> <td>-4.06839</td> <td>5.93523  </td> <td>-36.5081 </td> <td>6.01164         </td> <td>-5.20663 </td> <td>2.67617       </td> <td>-0.711513   </td> <td>74.431   </td> <td>-7.04886     </td> <td>3.10427      </td> <td>0.469318</td> <td>nan      </td> <td>nan    </td> <td>nan      </td> <td>nan        </td> <td>nan           </td> <td>nan           </td> <td>nan           </td> <td>nan     </td> <td>nan                </td> <td>nan     </td> <td>nan     </td> <td>3.90821 </td> <td>3.30615 </td> <td>3.74577</td> <td>50  </td> <td>5.89152</td> <td>-8.22624</td> <td>-117.474</td> <td>-1.53806 </td> <td>5.479  </td> <td>21.5805</td> <td>-27.5391</td> <td>LON_DIR </td> <td>CAL_BEA </td> <td>BlairField</td> <td>NCAA </td> <td>BW    </td> <td>20200214-BlairField-1</td> <td>a7b1b03a-4f97-11ea-9a79-e4a7a0511e7b</td> <td>80.3132      </td> <td>nan      </td> <td>nan             </td> <td>6.44015  </td> <td>2.26199           </td> <td>2.77992           </td> <td>0.757488          </td> <td>nan             </td> <td>nan             </td> <td>nan             </td> <td>5f9402a1-8da2-4588-ac5c-e76318dd2ed7</td>\n",
       "        </tr>\n",
       "    </tbody>\n",
       "</table>\n",
       "<p>... (4520 rows omitted)</p>"
      ],
      "text/plain": [
       "PitchNo | Date       | Time        | PaofInning | PitchofPa | Pitcher         | PitcherId  | PitcherThrows | PitcherTeam | Batter            | BatterId | BatterSide | BatterTeam | PitcherSet | Inning | Top/Bottom | Outs | Balls | Strikes | TaggedPitchType | AutoPitchType | PitchCall      | KorBB     | HitType   | PlayResult | OutsOnPlay | RunsScored | Notes | RelSpeed | VertRelAngle | HorzRelAngle | SpinRate | SpinAxis | Tilt  | RelHeight | RelSide  | Extension | VertBreak | InducedVertBreak | HorzBreak | PlateLocHeight | PlateLocSide | ZoneSpeed | VertApprAngle | HorzApprAngle | ZoneTime | ExitSpeed | Angle   | Direction | HitSpinRate | PositionAt110x | PositionAt110y | PositionAt110z | Distance | LastTrackedDistance | Bearing  | HangTime | pfxx     | pfxz     | x0      | y0   | z0      | vx0      | vy0      | vz0       | ax0     | ay0     | az0      | HomeTeam | AwayTeam | Stadium    | Level | League | GameID                | PitchUID                             | EffectiveVelo | MaxHeight | MeasuredDuration | SpeedDrop | PitchLastMeasuredX | PitchLastMeasuredY | PitchLastMeasuredZ | ContactPositionX | ContactPositionY | ContactPositionZ | GameUID\n",
       "1       | 02/14/2020 | 06:01:32 PM | 1          | 1         | Seminaris, Adam | 1000066908 | Left          | LON_DIR     | McIlwain, Brandon | 8889825  | Right      | CAL_BEA    | Windup     | 1      | Top        | 0    | 0     | 0       | ChangeUp        | ChangeUp      | StrikeCalled   | Undefined | Undefined | Undefined  | 0          | 0          | nan   | 80.3968  | -1.13933     | 6.37134      | 1879.89  | 105.714  | 9:30  | 5.76925   | -4.14754 | 6.04913   | -37.2504  | 6.47835          | -23.1719  | 1.60377        | -0.156649    | 72.846    | -8.15716      | 1.99826       | 0.475943 | nan       | nan     | nan       | nan         | nan            | nan            | nan            | nan      | nan                 | nan      | nan      | 14.5915  | 3.87987  | 3.66295 | 50   | 5.66025 | -12.3299 | -116.245 | -3.37147  | 19.7396 | 24.096  | -26.9253 | LON_DIR  | CAL_BEA  | BlairField | NCAA  | BW     | 20200214-BlairField-1 | 16d7821d-4f97-11ea-9a79-e4a7a0511e7b | 79.1951       | nan       | nan              | 7.5508    | 2.25383            | 1.72289            | 0.18645            | nan              | nan              | nan              | 5f9402a1-8da2-4588-ac5c-e76318dd2ed7\n",
       "2       | 02/14/2020 | 06:01:49 PM | 1          | 2         | Seminaris, Adam | 1000066908 | Left          | LON_DIR     | McIlwain, Brandon | 8889825  | Right      | CAL_BEA    | Windup     | 1      | Top        | 0    | 0     | 1       | Fastball        | Fastball      | BallCalled     | Undefined | Undefined | Undefined  | 0          | 0          | nan   | 88.9086  | 0.118835     | 4.27543      | 2098.56  | 125.801  | 10:15 | 5.97522   | -3.78048 | 5.61045   | -23.5649  | 12.9854          | -18.052   | 4.12269        | -1.28723     | 79.152    | -4.34013      | 0.860516      | 0.435128 | nan       | nan     | nan       | nan         | nan            | nan            | nan            | nan      | nan                 | nan      | nan      | 11.1959  | 6.93396  | 3.42628 | 50   | 5.97058 | -9.02823 | -128.795 | -0.515849 | 18.3461 | 32.8467 | -20.8117 | LON_DIR  | CAL_BEA  | BlairField | NCAA  | BW     | 20200214-BlairField-1 | 21133004-4f97-11ea-9a79-e4a7a0511e7b | 86.6236       | nan       | nan              | 9.75664   | -0.987691          | 3.93513            | 1.25499            | nan              | nan              | nan              | 5f9402a1-8da2-4588-ac5c-e76318dd2ed7\n",
       "3       | 02/14/2020 | 06:02:06 PM | 1          | 3         | Seminaris, Adam | 1000066908 | Left          | LON_DIR     | McIlwain, Brandon | 8889825  | Right      | CAL_BEA    | Windup     | 1      | Top        | 0    | 1     | 1       | Fastball        | Fastball      | StrikeSwinging | Undefined | Undefined | Undefined  | 0          | 0          | nan   | 88.998   | -0.55312     | 6.20252      | 2121.28  | 119.847  | 10:00 | 5.81573   | -3.89652 | 6.02487   | -22.1533  | 13.9142          | -24.3083  | 3.45437        | -0.155855    | 79.2198   | -4.77203      | 1.58659       | 0.432245 | nan       | nan     | nan       | nan         | nan            | nan            | nan            | nan      | nan                 | nan      | nan      | 15.4005  | 7.77519  | 3.42317 | 50   | 5.76042 | -13.2291 | -128.637 | -1.93369  | 25.2089 | 32.4315 | -19.447  | LON_DIR  | CAL_BEA  | BlairField | NCAA  | BW     | 20200214-BlairField-1 | 2a7696c8-4f97-11ea-9a79-e4a7a0511e7b | 87.2015       | nan       | nan              | 9.77819   | -1.10682           | 3.23833            | 0.0917724          | nan              | nan              | nan              | 5f9402a1-8da2-4588-ac5c-e76318dd2ed7\n",
       "4       | 02/14/2020 | 06:02:26 PM | 1          | 4         | Seminaris, Adam | 1000066908 | Left          | LON_DIR     | McIlwain, Brandon | 8889825  | Right      | CAL_BEA    | Windup     | 1      | Top        | 0    | 1     | 2       | Fastball        | Fastball      | FoulBall       | Undefined | Undefined | Undefined  | 0          | 0          | nan   | 89.8081  | -1.87306     | 5.82307      | 2218.88  | 127.435  | 10:15 | 6.05207   | -3.65457 | 5.7215    | -20.2482  | 15.2994          | -20.029   | 2.61059        | 0.118356     | 80.7237   | -5.68813      | 2.05662       | 0.429118 | 67.8169   | 31.3691 | 148.46    | 3262.49     | -97.4282       | 28.7977        | 51.0659        | 170.115  | 63.4358             | 154.472  | 2.47036  | 12.6439  | 8.83289  | 3.17941 | 50   | 5.88269 | -12.5771 | -129.839 | -4.93967  | 21.2731 | 30.8376 | -17.3129 | LON_DIR  | CAL_BEA  | BlairField | NCAA  | BW     | 20200214-BlairField-1 | 3367bf88-4f97-11ea-9a79-e4a7a0511e7b | 87.8369       | 30.7627   | 0.814772         | 9.08443   | 1.36272            | 2.60521            | -0.120291          | 1.05803          | 2.57476          | -0.131141        | 5f9402a1-8da2-4588-ac5c-e76318dd2ed7\n",
       "5       | 02/14/2020 | 06:02:50 PM | 1          | 5         | Seminaris, Adam | 1000066908 | Left          | LON_DIR     | McIlwain, Brandon | 8889825  | Right      | CAL_BEA    | Windup     | 1      | Top        | 0    | 1     | 2       | Curveball       | Curveball     | InPlay         | Undefined | LineDrive | Single     | 0          | 0          | nan   | 75.016   | 0.468327     | 3.38057      | 2474.77  | 329.641  | 5:00  | 6.05725   | -3.52747 | 5.78084   | -60.1642  | -9.92208         | 5.78403   | 1.48002        | 0.103139     | 69.0052   | -10.7304      | 4.46753       | 0.510159 | 103.86    | 10.0329 | -16.5129  | 858.84      | 104.687        | 14.8248        | -33.7712       | 244.34   | 239.25              | -18.1996 | 2.13353  | -2.07373 | -5.48772 | 3.24526 | 50   | 6.06003 | -6.59402 | -108.924 | -0.77043  | -2.4659 | 20.9593 | -38.6996 | LON_DIR  | CAL_BEA  | BlairField | NCAA  | BW     | 20200214-BlairField-1 | 454e71b9-4f97-11ea-9a79-e4a7a0511e7b | 73.8836       | 15.4499   | 2.07631          | 6.01082   | 2.89918            | 1.75706            | 0.012234           | 2.82104          | 1.74269          | 0.00617561       | 5f9402a1-8da2-4588-ac5c-e76318dd2ed7\n",
       "6       | 02/14/2020 | 06:03:34 PM | 2          | 1         | Seminaris, Adam | 1000066908 | Left          | LON_DIR     | Baker, Darren     | 8898752  | Left       | CAL_BEA    | Stretch    | 1      | Top        | 0    | 0     | 0       | Fastball        | Sinker        | StrikeCalled   | Undefined | Undefined | Undefined  | 0          | 0          | nan   | 86.0557  | -0.348549    | 6.61709      | 2021.4   | 102.759  | 9:30  | 5.88869   | -3.89055 | 6.39566   | -32.1762  | 5.094            | -22.6508  | 2.88467        | 0.333979     | 78.5928   | -6.42839      | 2.34413       | 0.439392 | nan       | nan     | nan       | nan         | nan            | nan            | nan            | nan      | nan                 | nan      | nan      | 14.2731  | 2.89419  | 3.42497 | 50   | 5.84857 | -13.807  | -124.555 | -1.6751   | 22.4375 | 24.8595 | -27.6243 | LON_DIR  | CAL_BEA  | BlairField | NCAA  | BW     | 20200214-BlairField-1 | 5f506249-4f97-11ea-9a79-e4a7a0511e7b | 85.783        | nan       | nan              | 7.46289   | -0.470082          | 2.66776            | -0.408293          | nan              | nan              | nan              | 5f9402a1-8da2-4588-ac5c-e76318dd2ed7\n",
       "7       | 02/14/2020 | 06:03:55 PM | 2          | 2         | Seminaris, Adam | 1000066908 | Left          | LON_DIR     | Baker, Darren     | 8898752  | Left       | CAL_BEA    | Stretch    | 1      | Top        | 0    | 0     | 1       | Fastball        | Sinker        | BallCalled     | Undefined | Undefined | Undefined  | 0          | 0          | nan   | 89.4105  | -2.2781      | 6.44336      | 2121.74  | 108.051  | 9:30  | 6.02677   | -3.88875 | 5.82822   | -25.6306  | 9.88154          | -30.4231  | 1.75885        | -0.409683    | 81.1681   | -7.08766      | 0.736518      | 0.428904 | nan       | nan     | nan       | nan         | nan            | nan            | nan            | nan      | nan                 | nan      | nan      | 18.2814  | 5.994    | 3.37903 | 50   | 5.82467 | -13.5971 | -129.19  | -6.00847  | 30.7433 | 28.1577 | -22.0941 | LON_DIR  | CAL_BEA  | BlairField | NCAA  | BW     | 20200214-BlairField-1 | 69164843-4f97-11ea-9a79-e4a7a0511e7b | 87.8807       | nan       | nan              | 8.24238   | 2.21054            | 1.85699            | 0.420573           | nan              | nan              | nan              | 5f9402a1-8da2-4588-ac5c-e76318dd2ed7\n",
       "8       | 02/14/2020 | 06:04:20 PM | 2          | 3         | Seminaris, Adam | 1000066908 | Left          | LON_DIR     | Baker, Darren     | 8898752  | Left       | CAL_BEA    | Stretch    | 1      | Top        | 0    | 1     | 1       | Curveball       | Curveball     | FoulBall       | Undefined | Undefined | Undefined  | 0          | 0          | nan   | 75.2563  | 0.16175      | 3.94831      | 2474.43  | 356.621  | 6:00  | 6.21315   | -3.85648 | 5.42894   | -57.132   | -6.62292         | 0.388225  | 1.60398        | -0.120889    | 69.2643   | -10.397       | 4.02067       | 0.511512 | 76.8629   | 20.2326 | -55.9665  | 4133.41     | 53.7663        | 26.7476        | -95.964        | 227.907  | 83.3613             | -67.3174 | 2.67538  | 0.968758 | -3.5673  | 3.50621 | 50   | 6.18858 | -7.54634 | -109.169 | -1.37429  | 1.16136 | 20.4093 | -36.4506 | LON_DIR  | CAL_BEA  | BlairField | NCAA  | BW     | 20200214-BlairField-1 | 7afa60a4-4f97-11ea-9a79-e4a7a0511e7b | 73.6881       | 26.9832   | 0.869125         | 5.99191   | 1.88416            | 1.68953            | 0.153746           | 1.69489          | 1.655            | 0.140444         | 5f9402a1-8da2-4588-ac5c-e76318dd2ed7\n",
       "9       | 02/14/2020 | 06:04:49 PM | 2          | 4         | Seminaris, Adam | 1000066908 | Left          | LON_DIR     | Baker, Darren     | 8898752  | Left       | CAL_BEA    | Stretch    | 1      | Top        | 0    | 1     | 2       | Fastball        | Fastball      | BallCalled     | Undefined | Undefined | Undefined  | 0          | 0          | nan   | 89.3469  | -3.03796     | 6.54127      | 2172.25  | 128.381  | 10:15 | 5.93751   | -3.46482 | 5.79416   | -25.6244  | 10.1388          | -12.8431  | 0.955439       | 1.57534      | 81.1543   | -7.82494      | 4.13988       | 0.430417 | nan       | nan     | nan       | nan         | nan            | nan            | nan            | nan      | nan                 | nan      | nan      | 8.89244  | 6.38042  | 2.93285 | 50   | 5.6709  | -14.3673 | -128.959 | -7.72683  | 14.8565 | 28.7995 | -21.5143 | LON_DIR  | CAL_BEA  | BlairField | NCAA  | BW     | 20200214-BlairField-1 | 8c3efe9d-4f97-11ea-9a79-e4a7a0511e7b | 87.5717       | nan       | nan              | 8.19264   | 4.80916            | 1.41235            | -1.32451           | nan              | nan              | nan              | 5f9402a1-8da2-4588-ac5c-e76318dd2ed7\n",
       "10      | 02/14/2020 | 06:05:36 PM | 2          | 5         | Seminaris, Adam | 1000066908 | Left          | LON_DIR     | Baker, Darren     | 8898752  | Left       | CAL_BEA    | Stretch    | 1      | Top        | 0    | 2     | 2       | ChangeUp        | Slider        | FoulBall       | Undefined | Undefined | Undefined  | 0          | 0          | nan   | 80.8712  | -0.227879    | 4.07969      | 2070.48  | 139.292  | 10:45 | 5.93043   | -4.06839 | 5.93523   | -36.5081  | 6.01164          | -5.20663  | 2.67617        | -0.711513    | 74.431    | -7.04886      | 3.10427       | 0.469318 | nan       | nan     | nan       | nan         | nan            | nan            | nan            | nan      | nan                 | nan      | nan      | 3.90821  | 3.30615  | 3.74577 | 50   | 5.89152 | -8.22624 | -117.474 | -1.53806  | 5.479   | 21.5805 | -27.5391 | LON_DIR  | CAL_BEA  | BlairField | NCAA  | BW     | 20200214-BlairField-1 | a7b1b03a-4f97-11ea-9a79-e4a7a0511e7b | 80.3132       | nan       | nan              | 6.44015   | 2.26199            | 2.77992            | 0.757488           | nan              | nan              | nan              | 5f9402a1-8da2-4588-ac5c-e76318dd2ed7\n",
       "... (4520 rows omitted)"
      ]
     },
     "execution_count": 2,
     "metadata": {},
     "output_type": "execute_result"
    }
   ],
   "source": [
    "#Here I import the Trackman CSV\n",
    "Cal_2020 = Table().read_table(\"Trackman2020.csv\")\n",
    "Cal_2020"
   ]
  },
  {
   "cell_type": "code",
   "execution_count": 3,
   "metadata": {},
   "outputs": [
    {
     "data": {
      "text/html": [
       "<table border=\"1\" class=\"dataframe\">\n",
       "    <thead>\n",
       "        <tr>\n",
       "            <th>PitchNo</th> <th>Date</th> <th>Time</th> <th>PaofInning</th> <th>PitchofPa</th> <th>Pitcher</th> <th>PitcherId</th> <th>PitcherThrows</th> <th>PitcherTeam</th> <th>Batter</th> <th>BatterId</th> <th>BatterSide</th> <th>BatterTeam</th> <th>PitcherSet</th> <th>Inning</th> <th>Top/Bottom</th> <th>Outs</th> <th>Balls</th> <th>Strikes</th> <th>TaggedPitchType</th> <th>AutoPitchType</th> <th>PitchCall</th> <th>KorBB</th> <th>HitType</th> <th>PlayResult</th> <th>OutsOnPlay</th> <th>RunsScored</th> <th>Notes</th> <th>RelSpeed</th> <th>VertRelAngle</th> <th>HorzRelAngle</th> <th>SpinRate</th> <th>SpinAxis</th> <th>Tilt</th> <th>RelHeight</th> <th>RelSide</th> <th>Extension</th> <th>VertBreak</th> <th>InducedVertBreak</th> <th>HorzBreak</th> <th>PlateLocHeight</th> <th>PlateLocSide</th> <th>ZoneSpeed</th> <th>VertApprAngle</th> <th>HorzApprAngle</th> <th>ZoneTime</th> <th>ExitSpeed</th> <th>Angle</th> <th>Direction</th> <th>HitSpinRate</th> <th>PositionAt110x</th> <th>PositionAt110y</th> <th>PositionAt110z</th> <th>Distance</th> <th>LastTrackedDistance</th> <th>Bearing</th> <th>HangTime</th> <th>pfxx</th> <th>pfxz</th> <th>x0</th> <th>y0</th> <th>z0</th> <th>vx0</th> <th>vy0</th> <th>vz0</th> <th>ax0</th> <th>ay0</th> <th>az0</th> <th>HomeTeam</th> <th>AwayTeam</th> <th>Stadium</th> <th>Level</th> <th>League</th> <th>GameID</th> <th>PitchUID</th> <th>EffectiveVelo</th> <th>MaxHeight</th> <th>MeasuredDuration</th> <th>SpeedDrop</th> <th>PitchLastMeasuredX</th> <th>PitchLastMeasuredY</th> <th>PitchLastMeasuredZ</th> <th>ContactPositionX</th> <th>ContactPositionY</th> <th>ContactPositionZ</th> <th>GameUID</th>\n",
       "        </tr>\n",
       "    </thead>\n",
       "    <tbody>\n",
       "        <tr>\n",
       "            <td>30     </td> <td>02/14/2020</td> <td>06:19:25 PM</td> <td>1         </td> <td>1        </td> <td>Stoutenborough, Sam</td> <td>1000016614</td> <td>Right        </td> <td>CAL_BEA    </td> <td>Estrada, Calvin</td> <td>1000049504</td> <td>Right     </td> <td>LON_DIR   </td> <td>Windup    </td> <td>1     </td> <td>Bottom    </td> <td>0   </td> <td>0    </td> <td>0      </td> <td>Fastball       </td> <td>Fastball     </td> <td>BallCalled    </td> <td>Undefined</td> <td>Undefined </td> <td>Undefined </td> <td>0         </td> <td>0         </td> <td>nan  </td> <td>87.7556 </td> <td>-0.782644   </td> <td>-0.547595   </td> <td>2146.12 </td> <td>199.48  </td> <td>12:45</td> <td>6.08206  </td> <td>0.701608</td> <td>6.075    </td> <td>-18.0628 </td> <td>17.998          </td> <td>6.37836  </td> <td>3.85267       </td> <td>0.726503    </td> <td>79.7209  </td> <td>-4.19755     </td> <td>0.66096      </td> <td>0.432204</td> <td>nan      </td> <td>nan     </td> <td>nan      </td> <td>nan        </td> <td>nan           </td> <td>nan           </td> <td>nan           </td> <td>nan     </td> <td>nan                </td> <td>nan     </td> <td>nan     </td> <td>-3.63135</td> <td>10.0198 </td> <td>-0.662705</td> <td>50  </td> <td>6.01201</td> <td>1.02433</td> <td>-127.725</td> <td>-2.30111 </td> <td>-5.95819</td> <td>27.9679</td> <td>-15.7339</td> <td>LON_DIR </td> <td>CAL_BEA </td> <td>BlairField</td> <td>NCAA </td> <td>BW    </td> <td>20200214-BlairField-1</td> <td>93965229-4f99-11ea-9a79-e4a7a0511e7b</td> <td>87.2096      </td> <td>nan      </td> <td>nan             </td> <td>8.03478  </td> <td>-0.617529         </td> <td>3.70064           </td> <td>-0.75093          </td> <td>nan             </td> <td>nan             </td> <td>nan             </td> <td>5f9402a1-8da2-4588-ac5c-e76318dd2ed7</td>\n",
       "        </tr>\n",
       "        <tr>\n",
       "            <td>31     </td> <td>02/14/2020</td> <td>06:19:42 PM</td> <td>1         </td> <td>2        </td> <td>Stoutenborough, Sam</td> <td>1000016614</td> <td>Right        </td> <td>CAL_BEA    </td> <td>Estrada, Calvin</td> <td>1000049504</td> <td>Right     </td> <td>LON_DIR   </td> <td>Windup    </td> <td>1     </td> <td>Bottom    </td> <td>0   </td> <td>1    </td> <td>0      </td> <td>Fastball       </td> <td>Fastball     </td> <td>BallCalled    </td> <td>Undefined</td> <td>Undefined </td> <td>Undefined </td> <td>0         </td> <td>0         </td> <td>nan  </td> <td>87.5885 </td> <td>-2.31129    </td> <td>-1.87658    </td> <td>2182.98 </td> <td>198.227 </td> <td>12:30</td> <td>5.67498  </td> <td>0.916967</td> <td>6.39875  </td> <td>-24.6135 </td> <td>11.1076         </td> <td>3.66882  </td> <td>1.49629       </td> <td>-0.503468   </td> <td>80.1495  </td> <td>-6.96149     </td> <td>-1.17896     </td> <td>0.430164</td> <td>nan      </td> <td>nan     </td> <td>nan      </td> <td>nan        </td> <td>nan           </td> <td>nan           </td> <td>nan           </td> <td>nan     </td> <td>nan                </td> <td>nan     </td> <td>nan     </td> <td>-2.5575 </td> <td>6.77262 </td> <td>-0.784293</td> <td>50  </td> <td>5.49796</td> <td>4.06891</td> <td>-127.423</td> <td>-5.85686 </td> <td>-4.19022</td> <td>27.0328</td> <td>-21.0778</td> <td>LON_DIR </td> <td>CAL_BEA </td> <td>BlairField</td> <td>NCAA </td> <td>BW    </td> <td>20200214-BlairField-1</td> <td>a0834605-4f99-11ea-9a79-e4a7a0511e7b</td> <td>87.6233      </td> <td>nan      </td> <td>nan             </td> <td>7.43903  </td> <td>2.72842           </td> <td>1.65495           </td> <td>0.476244          </td> <td>nan             </td> <td>nan             </td> <td>nan             </td> <td>5f9402a1-8da2-4588-ac5c-e76318dd2ed7</td>\n",
       "        </tr>\n",
       "        <tr>\n",
       "            <td>32     </td> <td>02/14/2020</td> <td>06:20:02 PM</td> <td>1         </td> <td>3        </td> <td>Stoutenborough, Sam</td> <td>1000016614</td> <td>Right        </td> <td>CAL_BEA    </td> <td>Estrada, Calvin</td> <td>1000049504</td> <td>Right     </td> <td>LON_DIR   </td> <td>Windup    </td> <td>1     </td> <td>Bottom    </td> <td>0   </td> <td>2    </td> <td>0      </td> <td>Fastball       </td> <td>Fastball     </td> <td>FoulBall      </td> <td>Undefined</td> <td>Undefined </td> <td>Undefined </td> <td>0         </td> <td>0         </td> <td>nan  </td> <td>87.4802 </td> <td>-0.231915   </td> <td>-0.650718   </td> <td>2049.31 </td> <td>199.812 </td> <td>12:45</td> <td>5.74795  </td> <td>0.774161</td> <td>6.18653  </td> <td>-21.3048 </td> <td>14.8958         </td> <td>5.37859  </td> <td>3.75843       </td> <td>0.621593    </td> <td>79.319   </td> <td>-4.27365     </td> <td>0.371646     </td> <td>0.433042</td> <td>104.113  </td> <td>27.0676 </td> <td>-38.1044 </td> <td>3035.8     </td> <td>82.8536       </td> <td>55.3776       </td> <td>-72.3547      </td> <td>405.102 </td> <td>109.184            </td> <td>-54.9182</td> <td>4.88452 </td> <td>-3.13626</td> <td>8.20783 </td> <td>-0.727892</td> <td>50  </td> <td>5.71971</td> <td>1.28493</td> <td>-127.337</td> <td>-1.15447 </td> <td>-5.10257</td> <td>28.3719</td> <td>-18.8202</td> <td>LON_DIR </td> <td>CAL_BEA </td> <td>BlairField</td> <td>NCAA </td> <td>BW    </td> <td>20200214-BlairField-1</td> <td>ad1fb3d7-4f99-11ea-9a79-e4a7a0511e7b</td> <td>87.041       </td> <td>83.3737  </td> <td>0.923149        </td> <td>8.16111  </td> <td>3.93081           </td> <td>3.94141           </td> <td>-0.60652          </td> <td>3.65625         </td> <td>3.9219          </td> <td>-0.608046       </td> <td>5f9402a1-8da2-4588-ac5c-e76318dd2ed7</td>\n",
       "        </tr>\n",
       "        <tr>\n",
       "            <td>33     </td> <td>02/14/2020</td> <td>06:20:36 PM</td> <td>1         </td> <td>4        </td> <td>Stoutenborough, Sam</td> <td>1000016614</td> <td>Right        </td> <td>CAL_BEA    </td> <td>Estrada, Calvin</td> <td>1000049504</td> <td>Right     </td> <td>LON_DIR   </td> <td>Windup    </td> <td>1     </td> <td>Bottom    </td> <td>0   </td> <td>2    </td> <td>1      </td> <td>Slider         </td> <td>Curveball    </td> <td>InPlay        </td> <td>Undefined</td> <td>GroundBall</td> <td>Out       </td> <td>1         </td> <td>0         </td> <td>nan  </td> <td>78.9094 </td> <td>0.450775    </td> <td>-0.642607   </td> <td>2251.01 </td> <td>81.8498 </td> <td>8:45 </td> <td>5.56485  </td> <td>0.743551</td> <td>6.23382  </td> <td>-46.3035 </td> <td>-2.04189        </td> <td>-13.967  </td> <td>2.12205       </td> <td>-1.01313    </td> <td>72.4762  </td> <td>-8.27037     </td> <td>-3.29128     </td> <td>0.478834</td> <td>71.7182  </td> <td>-27.7437</td> <td>-10.575  </td> <td>nan        </td> <td>nan           </td> <td>nan           </td> <td>nan           </td> <td>8.48772 </td> <td>5.66709            </td> <td>0.104491</td> <td>0.050412</td> <td>7.44741 </td> <td>-1.24862</td> <td>-0.688752</td> <td>50  </td> <td>5.57538</td> <td>1.66431</td> <td>-114.896</td> <td>-0.34126 </td> <td>9.90195 </td> <td>22.3532</td> <td>-33.8342</td> <td>LON_DIR </td> <td>CAL_BEA </td> <td>BlairField</td> <td>NCAA </td> <td>BW    </td> <td>20200214-BlairField-1</td> <td>c04d391b-4f99-11ea-9a79-e4a7a0511e7b</td> <td>78.7169      </td> <td>2.47157  </td> <td>0.0191864       </td> <td>6.43321  </td> <td>4.08312           </td> <td>2.49839           </td> <td>0.863373          </td> <td>3.88743         </td> <td>2.47157         </td> <td>0.874121        </td> <td>5f9402a1-8da2-4588-ac5c-e76318dd2ed7</td>\n",
       "        </tr>\n",
       "        <tr>\n",
       "            <td>34     </td> <td>02/14/2020</td> <td>06:21:14 PM</td> <td>2         </td> <td>1        </td> <td>Stoutenborough, Sam</td> <td>1000016614</td> <td>Right        </td> <td>CAL_BEA    </td> <td>Hughey, Jacob  </td> <td>8892281   </td> <td>Left      </td> <td>LON_DIR   </td> <td>Windup    </td> <td>1     </td> <td>Bottom    </td> <td>1   </td> <td>0    </td> <td>0      </td> <td>Fastball       </td> <td>Fastball     </td> <td>StrikeCalled  </td> <td>Undefined</td> <td>Undefined </td> <td>Undefined </td> <td>0         </td> <td>0         </td> <td>nan  </td> <td>89.1844 </td> <td>-0.364737   </td> <td>-1.49645    </td> <td>2183.32 </td> <td>237.196 </td> <td>2:00 </td> <td>5.76097  </td> <td>0.779023</td> <td>6.50124  </td> <td>-25.7341 </td> <td>8.79028         </td> <td>13.6883  </td> <td>3.28161       </td> <td>0.546062    </td> <td>80.7572  </td> <td>-5.27677     </td> <td>1.12427      </td> <td>0.422897</td> <td>nan      </td> <td>nan     </td> <td>nan      </td> <td>nan        </td> <td>nan           </td> <td>nan           </td> <td>nan           </td> <td>nan     </td> <td>nan                </td> <td>nan     </td> <td>nan     </td> <td>-8.03967</td> <td>4.9754  </td> <td>-0.680567</td> <td>50  </td> <td>5.72421</td> <td>3.00003</td> <td>-129.825</td> <td>-1.56278 </td> <td>-13.5494</td> <td>30.3556</td> <td>-23.7889</td> <td>LON_DIR </td> <td>CAL_BEA </td> <td>BlairField</td> <td>NCAA </td> <td>BW    </td> <td>20200214-BlairField-1</td> <td>d2312caf-4f99-11ea-9a79-e4a7a0511e7b</td> <td>89.129       </td> <td>nan      </td> <td>nan             </td> <td>8.42719  </td> <td>-0.0227527        </td> <td>3.14665           </td> <td>-0.575368         </td> <td>nan             </td> <td>nan             </td> <td>nan             </td> <td>5f9402a1-8da2-4588-ac5c-e76318dd2ed7</td>\n",
       "        </tr>\n",
       "        <tr>\n",
       "            <td>35     </td> <td>02/14/2020</td> <td>06:21:33 PM</td> <td>2         </td> <td>2        </td> <td>Stoutenborough, Sam</td> <td>1000016614</td> <td>Right        </td> <td>CAL_BEA    </td> <td>Hughey, Jacob  </td> <td>8892281   </td> <td>Left      </td> <td>LON_DIR   </td> <td>Windup    </td> <td>1     </td> <td>Bottom    </td> <td>1   </td> <td>0    </td> <td>1      </td> <td>Fastball       </td> <td>Fastball     </td> <td>StrikeSwinging</td> <td>Undefined</td> <td>Undefined </td> <td>Undefined </td> <td>0         </td> <td>0         </td> <td>nan  </td> <td>89.5547 </td> <td>-0.398498   </td> <td>-1.23209    </td> <td>2078.42 </td> <td>241.462 </td> <td>2:00 </td> <td>5.59819  </td> <td>1.0113  </td> <td>6.68261  </td> <td>-26.6847 </td> <td>7.21699         </td> <td>13.3299  </td> <td>3.00992       </td> <td>0.995121    </td> <td>81.376   </td> <td>-5.49985     </td> <td>1.32494      </td> <td>0.419066</td> <td>nan      </td> <td>nan     </td> <td>nan      </td> <td>nan        </td> <td>nan           </td> <td>nan           </td> <td>nan           </td> <td>nan     </td> <td>nan                </td> <td>nan     </td> <td>nan     </td> <td>-7.79205</td> <td>4.13648 </td> <td>-0.934577</td> <td>50  </td> <td>5.56086</td> <td>2.43644</td> <td>-130.44 </td> <td>-1.64612 </td> <td>-13.2944</td> <td>29.9308</td> <td>-25.1166</td> <td>LON_DIR </td> <td>CAL_BEA </td> <td>BlairField</td> <td>NCAA </td> <td>BW    </td> <td>20200214-BlairField-1</td> <td>e2fb9842-4f99-11ea-9a79-e4a7a0511e7b</td> <td>89.9439      </td> <td>nan      </td> <td>nan             </td> <td>8.17862  </td> <td>-0.281587         </td> <td>2.84349           </td> <td>-1.03583          </td> <td>nan             </td> <td>nan             </td> <td>nan             </td> <td>5f9402a1-8da2-4588-ac5c-e76318dd2ed7</td>\n",
       "        </tr>\n",
       "        <tr>\n",
       "            <td>36     </td> <td>02/14/2020</td> <td>06:21:56 PM</td> <td>2         </td> <td>3        </td> <td>Stoutenborough, Sam</td> <td>1000016614</td> <td>Right        </td> <td>CAL_BEA    </td> <td>Hughey, Jacob  </td> <td>8892281   </td> <td>Left      </td> <td>LON_DIR   </td> <td>Windup    </td> <td>1     </td> <td>Bottom    </td> <td>1   </td> <td>0    </td> <td>2      </td> <td>ChangeUp       </td> <td>Splitter     </td> <td>StrikeSwinging</td> <td>Strikeout</td> <td>Undefined </td> <td>Undefined </td> <td>0         </td> <td>0         </td> <td>nan  </td> <td>78.9753 </td> <td>0.455224    </td> <td>-1.68679    </td> <td>1561.33 </td> <td>278.604 </td> <td>3:15 </td> <td>5.57304  </td> <td>0.707927</td> <td>6.79008  </td> <td>-44.9106 </td> <td>-1.68464        </td> <td>10.8649  </td> <td>2.24616       </td> <td>0.0733738   </td> <td>72.482   </td> <td>-8.10149     </td> <td>0.39604      </td> <td>0.473199</td> <td>nan      </td> <td>nan     </td> <td>nan      </td> <td>nan        </td> <td>nan           </td> <td>nan           </td> <td>nan           </td> <td>nan     </td> <td>nan                </td> <td>nan     </td> <td>nan     </td> <td>-6.55125</td> <td>-1.07222</td> <td>-0.602854</td> <td>50  </td> <td>5.58526</td> <td>3.12844</td> <td>-115.061</td> <td>-0.159883</td> <td>-8.74247</td> <td>22.2593</td> <td>-33.6049</td> <td>LON_DIR </td> <td>CAL_BEA </td> <td>BlairField</td> <td>NCAA </td> <td>BW    </td> <td>20200214-BlairField-1</td> <td>ed0647f9-4f99-11ea-9a79-e4a7a0511e7b</td> <td>79.6544      </td> <td>nan      </td> <td>nan             </td> <td>6.49327  </td> <td>0.450857          </td> <td>2.10712           </td> <td>-0.0804251        </td> <td>nan             </td> <td>nan             </td> <td>nan             </td> <td>5f9402a1-8da2-4588-ac5c-e76318dd2ed7</td>\n",
       "        </tr>\n",
       "        <tr>\n",
       "            <td>37     </td> <td>02/14/2020</td> <td>06:22:29 PM</td> <td>3         </td> <td>1        </td> <td>Stoutenborough, Sam</td> <td>1000016614</td> <td>Right        </td> <td>CAL_BEA    </td> <td>Malm, Aidan    </td> <td>1000049511</td> <td>Right     </td> <td>LON_DIR   </td> <td>Windup    </td> <td>1     </td> <td>Bottom    </td> <td>2   </td> <td>0    </td> <td>0      </td> <td>Fastball       </td> <td>Fastball     </td> <td>StrikeCalled  </td> <td>Undefined</td> <td>Undefined </td> <td>Undefined </td> <td>0         </td> <td>0         </td> <td>nan  </td> <td>89.398  </td> <td>-2.81064    </td> <td>-1.63287    </td> <td>2128.78 </td> <td>204.855 </td> <td>12:45</td> <td>5.95526  </td> <td>0.614687</td> <td>6.26064  </td> <td>-16.6515 </td> <td>18.0391         </td> <td>8.37128  </td> <td>1.97328       </td> <td>-0.193509   </td> <td>81.1037  </td> <td>-5.96295     </td> <td>-0.0393809   </td> <td>0.423913</td> <td>nan      </td> <td>nan     </td> <td>nan      </td> <td>nan        </td> <td>nan           </td> <td>nan           </td> <td>nan           </td> <td>nan     </td> <td>nan                </td> <td>nan     </td> <td>nan     </td> <td>-5.0864 </td> <td>10.7444 </td> <td>-0.497939</td> <td>50  </td> <td>5.73888</td> <td>3.4518 </td> <td>-129.94 </td> <td>-6.88391 </td> <td>-8.61117</td> <td>29.7177</td> <td>-13.984 </td> <td>LON_DIR </td> <td>CAL_BEA </td> <td>BlairField</td> <td>NCAA </td> <td>BW    </td> <td>20200214-BlairField-1</td> <td>feea3d48-4f99-11ea-9a79-e4a7a0511e7b</td> <td>88.9153      </td> <td>nan      </td> <td>nan             </td> <td>8.29431  </td> <td>1.45571           </td> <td>1.97736           </td> <td>0.193481          </td> <td>nan             </td> <td>nan             </td> <td>nan             </td> <td>5f9402a1-8da2-4588-ac5c-e76318dd2ed7</td>\n",
       "        </tr>\n",
       "        <tr>\n",
       "            <td>38     </td> <td>02/14/2020</td> <td>06:22:45 PM</td> <td>3         </td> <td>2        </td> <td>Stoutenborough, Sam</td> <td>1000016614</td> <td>Right        </td> <td>CAL_BEA    </td> <td>Malm, Aidan    </td> <td>1000049511</td> <td>Right     </td> <td>LON_DIR   </td> <td>Windup    </td> <td>1     </td> <td>Bottom    </td> <td>2   </td> <td>0    </td> <td>1      </td> <td>Slider         </td> <td>Curveball    </td> <td>BallCalled    </td> <td>Undefined</td> <td>Undefined </td> <td>Undefined </td> <td>0         </td> <td>0         </td> <td>nan  </td> <td>79.0833 </td> <td>-0.461835   </td> <td>-1.53314    </td> <td>2427.9  </td> <td>74.6838 </td> <td>8:30 </td> <td>5.64574  </td> <td>0.71439 </td> <td>6.37289  </td> <td>-48.0277 </td> <td>-3.89034        </td> <td>-14.0534 </td> <td>1.2184        </td> <td>-1.86751    </td> <td>72.4605  </td> <td>-9.52338     </td> <td>-4.21092     </td> <td>0.478161</td> <td>nan      </td> <td>nan     </td> <td>nan      </td> <td>nan        </td> <td>nan           </td> <td>nan           </td> <td>nan           </td> <td>nan     </td> <td>nan                </td> <td>nan     </td> <td>nan     </td> <td>7.25274 </td> <td>-1.99595</td> <td>-0.597391</td> <td>50  </td> <td>5.59011</td> <td>3.44637</td> <td>-115.091</td> <td>-2.17885 </td> <td>9.60528 </td> <td>23.8743</td> <td>-34.8174</td> <td>LON_DIR </td> <td>CAL_BEA </td> <td>BlairField</td> <td>NCAA </td> <td>BW    </td> <td>20200214-BlairField-1</td> <td>0db23992-4f9a-11ea-9a79-e4a7a0511e7b</td> <td>78.8277      </td> <td>nan      </td> <td>nan             </td> <td>6.6228   </td> <td>1.39529           </td> <td>1.2148            </td> <td>1.86908           </td> <td>nan             </td> <td>nan             </td> <td>nan             </td> <td>5f9402a1-8da2-4588-ac5c-e76318dd2ed7</td>\n",
       "        </tr>\n",
       "        <tr>\n",
       "            <td>39     </td> <td>02/14/2020</td> <td>06:23:01 PM</td> <td>3         </td> <td>3        </td> <td>Stoutenborough, Sam</td> <td>1000016614</td> <td>Right        </td> <td>CAL_BEA    </td> <td>Malm, Aidan    </td> <td>1000049511</td> <td>Right     </td> <td>LON_DIR   </td> <td>Windup    </td> <td>1     </td> <td>Bottom    </td> <td>2   </td> <td>1    </td> <td>1      </td> <td>Slider         </td> <td>Curveball    </td> <td>BallCalled    </td> <td>Undefined</td> <td>Undefined </td> <td>Undefined </td> <td>0         </td> <td>0         </td> <td>nan  </td> <td>79.0236 </td> <td>-0.556129   </td> <td>-0.530597   </td> <td>2423.73 </td> <td>81.7883 </td> <td>8:45 </td> <td>5.60201  </td> <td>0.858997</td> <td>6.39135  </td> <td>-46.254  </td> <td>-2.57758        </td> <td>-17.5767 </td> <td>1.23602       </td> <td>-1.0937     </td> <td>73.1569  </td> <td>-9.24216     </td> <td>-3.8643      </td> <td>0.475658</td> <td>nan      </td> <td>nan     </td> <td>nan      </td> <td>nan        </td> <td>nan           </td> <td>nan           </td> <td>nan           </td> <td>nan     </td> <td>nan                </td> <td>nan     </td> <td>nan     </td> <td>9.50516 </td> <td>-1.26006</td> <td>-0.812756</td> <td>50  </td> <td>5.54057</td> <td>1.52673</td> <td>-115.126</td> <td>-2.3295  </td> <td>12.7487 </td> <td>21.502 </td> <td>-33.8641</td> <td>LON_DIR </td> <td>CAL_BEA </td> <td>BlairField</td> <td>NCAA </td> <td>BW    </td> <td>20200214-BlairField-1</td> <td>1734b75c-4f9a-11ea-9a79-e4a7a0511e7b</td> <td>79.2426      </td> <td>nan      </td> <td>nan             </td> <td>5.8666   </td> <td>1.13908           </td> <td>1.19062           </td> <td>1.1125            </td> <td>nan             </td> <td>nan             </td> <td>nan             </td> <td>5f9402a1-8da2-4588-ac5c-e76318dd2ed7</td>\n",
       "        </tr>\n",
       "    </tbody>\n",
       "</table>\n",
       "<p>... (2338 rows omitted)</p>"
      ],
      "text/plain": [
       "PitchNo | Date       | Time        | PaofInning | PitchofPa | Pitcher             | PitcherId  | PitcherThrows | PitcherTeam | Batter          | BatterId   | BatterSide | BatterTeam | PitcherSet | Inning | Top/Bottom | Outs | Balls | Strikes | TaggedPitchType | AutoPitchType | PitchCall      | KorBB     | HitType    | PlayResult | OutsOnPlay | RunsScored | Notes | RelSpeed | VertRelAngle | HorzRelAngle | SpinRate | SpinAxis | Tilt  | RelHeight | RelSide  | Extension | VertBreak | InducedVertBreak | HorzBreak | PlateLocHeight | PlateLocSide | ZoneSpeed | VertApprAngle | HorzApprAngle | ZoneTime | ExitSpeed | Angle    | Direction | HitSpinRate | PositionAt110x | PositionAt110y | PositionAt110z | Distance | LastTrackedDistance | Bearing  | HangTime | pfxx     | pfxz     | x0        | y0   | z0      | vx0     | vy0      | vz0       | ax0      | ay0     | az0      | HomeTeam | AwayTeam | Stadium    | Level | League | GameID                | PitchUID                             | EffectiveVelo | MaxHeight | MeasuredDuration | SpeedDrop | PitchLastMeasuredX | PitchLastMeasuredY | PitchLastMeasuredZ | ContactPositionX | ContactPositionY | ContactPositionZ | GameUID\n",
       "30      | 02/14/2020 | 06:19:25 PM | 1          | 1         | Stoutenborough, Sam | 1000016614 | Right         | CAL_BEA     | Estrada, Calvin | 1000049504 | Right      | LON_DIR    | Windup     | 1      | Bottom     | 0    | 0     | 0       | Fastball        | Fastball      | BallCalled     | Undefined | Undefined  | Undefined  | 0          | 0          | nan   | 87.7556  | -0.782644    | -0.547595    | 2146.12  | 199.48   | 12:45 | 6.08206   | 0.701608 | 6.075     | -18.0628  | 17.998           | 6.37836   | 3.85267        | 0.726503     | 79.7209   | -4.19755      | 0.66096       | 0.432204 | nan       | nan      | nan       | nan         | nan            | nan            | nan            | nan      | nan                 | nan      | nan      | -3.63135 | 10.0198  | -0.662705 | 50   | 6.01201 | 1.02433 | -127.725 | -2.30111  | -5.95819 | 27.9679 | -15.7339 | LON_DIR  | CAL_BEA  | BlairField | NCAA  | BW     | 20200214-BlairField-1 | 93965229-4f99-11ea-9a79-e4a7a0511e7b | 87.2096       | nan       | nan              | 8.03478   | -0.617529          | 3.70064            | -0.75093           | nan              | nan              | nan              | 5f9402a1-8da2-4588-ac5c-e76318dd2ed7\n",
       "31      | 02/14/2020 | 06:19:42 PM | 1          | 2         | Stoutenborough, Sam | 1000016614 | Right         | CAL_BEA     | Estrada, Calvin | 1000049504 | Right      | LON_DIR    | Windup     | 1      | Bottom     | 0    | 1     | 0       | Fastball        | Fastball      | BallCalled     | Undefined | Undefined  | Undefined  | 0          | 0          | nan   | 87.5885  | -2.31129     | -1.87658     | 2182.98  | 198.227  | 12:30 | 5.67498   | 0.916967 | 6.39875   | -24.6135  | 11.1076          | 3.66882   | 1.49629        | -0.503468    | 80.1495   | -6.96149      | -1.17896      | 0.430164 | nan       | nan      | nan       | nan         | nan            | nan            | nan            | nan      | nan                 | nan      | nan      | -2.5575  | 6.77262  | -0.784293 | 50   | 5.49796 | 4.06891 | -127.423 | -5.85686  | -4.19022 | 27.0328 | -21.0778 | LON_DIR  | CAL_BEA  | BlairField | NCAA  | BW     | 20200214-BlairField-1 | a0834605-4f99-11ea-9a79-e4a7a0511e7b | 87.6233       | nan       | nan              | 7.43903   | 2.72842            | 1.65495            | 0.476244           | nan              | nan              | nan              | 5f9402a1-8da2-4588-ac5c-e76318dd2ed7\n",
       "32      | 02/14/2020 | 06:20:02 PM | 1          | 3         | Stoutenborough, Sam | 1000016614 | Right         | CAL_BEA     | Estrada, Calvin | 1000049504 | Right      | LON_DIR    | Windup     | 1      | Bottom     | 0    | 2     | 0       | Fastball        | Fastball      | FoulBall       | Undefined | Undefined  | Undefined  | 0          | 0          | nan   | 87.4802  | -0.231915    | -0.650718    | 2049.31  | 199.812  | 12:45 | 5.74795   | 0.774161 | 6.18653   | -21.3048  | 14.8958          | 5.37859   | 3.75843        | 0.621593     | 79.319    | -4.27365      | 0.371646      | 0.433042 | 104.113   | 27.0676  | -38.1044  | 3035.8      | 82.8536        | 55.3776        | -72.3547       | 405.102  | 109.184             | -54.9182 | 4.88452  | -3.13626 | 8.20783  | -0.727892 | 50   | 5.71971 | 1.28493 | -127.337 | -1.15447  | -5.10257 | 28.3719 | -18.8202 | LON_DIR  | CAL_BEA  | BlairField | NCAA  | BW     | 20200214-BlairField-1 | ad1fb3d7-4f99-11ea-9a79-e4a7a0511e7b | 87.041        | 83.3737   | 0.923149         | 8.16111   | 3.93081            | 3.94141            | -0.60652           | 3.65625          | 3.9219           | -0.608046        | 5f9402a1-8da2-4588-ac5c-e76318dd2ed7\n",
       "33      | 02/14/2020 | 06:20:36 PM | 1          | 4         | Stoutenborough, Sam | 1000016614 | Right         | CAL_BEA     | Estrada, Calvin | 1000049504 | Right      | LON_DIR    | Windup     | 1      | Bottom     | 0    | 2     | 1       | Slider          | Curveball     | InPlay         | Undefined | GroundBall | Out        | 1          | 0          | nan   | 78.9094  | 0.450775     | -0.642607    | 2251.01  | 81.8498  | 8:45  | 5.56485   | 0.743551 | 6.23382   | -46.3035  | -2.04189         | -13.967   | 2.12205        | -1.01313     | 72.4762   | -8.27037      | -3.29128      | 0.478834 | 71.7182   | -27.7437 | -10.575   | nan         | nan            | nan            | nan            | 8.48772  | 5.66709             | 0.104491 | 0.050412 | 7.44741  | -1.24862 | -0.688752 | 50   | 5.57538 | 1.66431 | -114.896 | -0.34126  | 9.90195  | 22.3532 | -33.8342 | LON_DIR  | CAL_BEA  | BlairField | NCAA  | BW     | 20200214-BlairField-1 | c04d391b-4f99-11ea-9a79-e4a7a0511e7b | 78.7169       | 2.47157   | 0.0191864        | 6.43321   | 4.08312            | 2.49839            | 0.863373           | 3.88743          | 2.47157          | 0.874121         | 5f9402a1-8da2-4588-ac5c-e76318dd2ed7\n",
       "34      | 02/14/2020 | 06:21:14 PM | 2          | 1         | Stoutenborough, Sam | 1000016614 | Right         | CAL_BEA     | Hughey, Jacob   | 8892281    | Left       | LON_DIR    | Windup     | 1      | Bottom     | 1    | 0     | 0       | Fastball        | Fastball      | StrikeCalled   | Undefined | Undefined  | Undefined  | 0          | 0          | nan   | 89.1844  | -0.364737    | -1.49645     | 2183.32  | 237.196  | 2:00  | 5.76097   | 0.779023 | 6.50124   | -25.7341  | 8.79028          | 13.6883   | 3.28161        | 0.546062     | 80.7572   | -5.27677      | 1.12427       | 0.422897 | nan       | nan      | nan       | nan         | nan            | nan            | nan            | nan      | nan                 | nan      | nan      | -8.03967 | 4.9754   | -0.680567 | 50   | 5.72421 | 3.00003 | -129.825 | -1.56278  | -13.5494 | 30.3556 | -23.7889 | LON_DIR  | CAL_BEA  | BlairField | NCAA  | BW     | 20200214-BlairField-1 | d2312caf-4f99-11ea-9a79-e4a7a0511e7b | 89.129        | nan       | nan              | 8.42719   | -0.0227527         | 3.14665            | -0.575368          | nan              | nan              | nan              | 5f9402a1-8da2-4588-ac5c-e76318dd2ed7\n",
       "35      | 02/14/2020 | 06:21:33 PM | 2          | 2         | Stoutenborough, Sam | 1000016614 | Right         | CAL_BEA     | Hughey, Jacob   | 8892281    | Left       | LON_DIR    | Windup     | 1      | Bottom     | 1    | 0     | 1       | Fastball        | Fastball      | StrikeSwinging | Undefined | Undefined  | Undefined  | 0          | 0          | nan   | 89.5547  | -0.398498    | -1.23209     | 2078.42  | 241.462  | 2:00  | 5.59819   | 1.0113   | 6.68261   | -26.6847  | 7.21699          | 13.3299   | 3.00992        | 0.995121     | 81.376    | -5.49985      | 1.32494       | 0.419066 | nan       | nan      | nan       | nan         | nan            | nan            | nan            | nan      | nan                 | nan      | nan      | -7.79205 | 4.13648  | -0.934577 | 50   | 5.56086 | 2.43644 | -130.44  | -1.64612  | -13.2944 | 29.9308 | -25.1166 | LON_DIR  | CAL_BEA  | BlairField | NCAA  | BW     | 20200214-BlairField-1 | e2fb9842-4f99-11ea-9a79-e4a7a0511e7b | 89.9439       | nan       | nan              | 8.17862   | -0.281587          | 2.84349            | -1.03583           | nan              | nan              | nan              | 5f9402a1-8da2-4588-ac5c-e76318dd2ed7\n",
       "36      | 02/14/2020 | 06:21:56 PM | 2          | 3         | Stoutenborough, Sam | 1000016614 | Right         | CAL_BEA     | Hughey, Jacob   | 8892281    | Left       | LON_DIR    | Windup     | 1      | Bottom     | 1    | 0     | 2       | ChangeUp        | Splitter      | StrikeSwinging | Strikeout | Undefined  | Undefined  | 0          | 0          | nan   | 78.9753  | 0.455224     | -1.68679     | 1561.33  | 278.604  | 3:15  | 5.57304   | 0.707927 | 6.79008   | -44.9106  | -1.68464         | 10.8649   | 2.24616        | 0.0733738    | 72.482    | -8.10149      | 0.39604       | 0.473199 | nan       | nan      | nan       | nan         | nan            | nan            | nan            | nan      | nan                 | nan      | nan      | -6.55125 | -1.07222 | -0.602854 | 50   | 5.58526 | 3.12844 | -115.061 | -0.159883 | -8.74247 | 22.2593 | -33.6049 | LON_DIR  | CAL_BEA  | BlairField | NCAA  | BW     | 20200214-BlairField-1 | ed0647f9-4f99-11ea-9a79-e4a7a0511e7b | 79.6544       | nan       | nan              | 6.49327   | 0.450857           | 2.10712            | -0.0804251         | nan              | nan              | nan              | 5f9402a1-8da2-4588-ac5c-e76318dd2ed7\n",
       "37      | 02/14/2020 | 06:22:29 PM | 3          | 1         | Stoutenborough, Sam | 1000016614 | Right         | CAL_BEA     | Malm, Aidan     | 1000049511 | Right      | LON_DIR    | Windup     | 1      | Bottom     | 2    | 0     | 0       | Fastball        | Fastball      | StrikeCalled   | Undefined | Undefined  | Undefined  | 0          | 0          | nan   | 89.398   | -2.81064     | -1.63287     | 2128.78  | 204.855  | 12:45 | 5.95526   | 0.614687 | 6.26064   | -16.6515  | 18.0391          | 8.37128   | 1.97328        | -0.193509    | 81.1037   | -5.96295      | -0.0393809    | 0.423913 | nan       | nan      | nan       | nan         | nan            | nan            | nan            | nan      | nan                 | nan      | nan      | -5.0864  | 10.7444  | -0.497939 | 50   | 5.73888 | 3.4518  | -129.94  | -6.88391  | -8.61117 | 29.7177 | -13.984  | LON_DIR  | CAL_BEA  | BlairField | NCAA  | BW     | 20200214-BlairField-1 | feea3d48-4f99-11ea-9a79-e4a7a0511e7b | 88.9153       | nan       | nan              | 8.29431   | 1.45571            | 1.97736            | 0.193481           | nan              | nan              | nan              | 5f9402a1-8da2-4588-ac5c-e76318dd2ed7\n",
       "38      | 02/14/2020 | 06:22:45 PM | 3          | 2         | Stoutenborough, Sam | 1000016614 | Right         | CAL_BEA     | Malm, Aidan     | 1000049511 | Right      | LON_DIR    | Windup     | 1      | Bottom     | 2    | 0     | 1       | Slider          | Curveball     | BallCalled     | Undefined | Undefined  | Undefined  | 0          | 0          | nan   | 79.0833  | -0.461835    | -1.53314     | 2427.9   | 74.6838  | 8:30  | 5.64574   | 0.71439  | 6.37289   | -48.0277  | -3.89034         | -14.0534  | 1.2184         | -1.86751     | 72.4605   | -9.52338      | -4.21092      | 0.478161 | nan       | nan      | nan       | nan         | nan            | nan            | nan            | nan      | nan                 | nan      | nan      | 7.25274  | -1.99595 | -0.597391 | 50   | 5.59011 | 3.44637 | -115.091 | -2.17885  | 9.60528  | 23.8743 | -34.8174 | LON_DIR  | CAL_BEA  | BlairField | NCAA  | BW     | 20200214-BlairField-1 | 0db23992-4f9a-11ea-9a79-e4a7a0511e7b | 78.8277       | nan       | nan              | 6.6228    | 1.39529            | 1.2148             | 1.86908            | nan              | nan              | nan              | 5f9402a1-8da2-4588-ac5c-e76318dd2ed7\n",
       "39      | 02/14/2020 | 06:23:01 PM | 3          | 3         | Stoutenborough, Sam | 1000016614 | Right         | CAL_BEA     | Malm, Aidan     | 1000049511 | Right      | LON_DIR    | Windup     | 1      | Bottom     | 2    | 1     | 1       | Slider          | Curveball     | BallCalled     | Undefined | Undefined  | Undefined  | 0          | 0          | nan   | 79.0236  | -0.556129    | -0.530597    | 2423.73  | 81.7883  | 8:45  | 5.60201   | 0.858997 | 6.39135   | -46.254   | -2.57758         | -17.5767  | 1.23602        | -1.0937      | 73.1569   | -9.24216      | -3.8643       | 0.475658 | nan       | nan      | nan       | nan         | nan            | nan            | nan            | nan      | nan                 | nan      | nan      | 9.50516  | -1.26006 | -0.812756 | 50   | 5.54057 | 1.52673 | -115.126 | -2.3295   | 12.7487  | 21.502  | -33.8641 | LON_DIR  | CAL_BEA  | BlairField | NCAA  | BW     | 20200214-BlairField-1 | 1734b75c-4f9a-11ea-9a79-e4a7a0511e7b | 79.2426       | nan       | nan              | 5.8666    | 1.13908            | 1.19062            | 1.1125             | nan              | nan              | nan              | 5f9402a1-8da2-4588-ac5c-e76318dd2ed7\n",
       "... (2338 rows omitted)"
      ]
     },
     "execution_count": 3,
     "metadata": {},
     "output_type": "execute_result"
    }
   ],
   "source": [
    "#Here I do a little bit of data cleaning and take out all non-defense pitches tracked\n",
    "Cal_Pitchers = Cal_2020.where(\"PitcherTeam\", \"CAL_BEA\")\n",
    "Cal_Pitchers"
   ]
  },
  {
   "cell_type": "code",
   "execution_count": 4,
   "metadata": {},
   "outputs": [],
   "source": [
    "#Here is where it gets a little more complex as we try to create an Effective Velocity (EV function)\n",
    "#The first step we do is try to find the distance in miles by taking the pitching mound distance of 60'6 and\n",
    "#subtracting the pitchers Extension for every pitch thrown.  We then divide this by 5280 to get to miles\n",
    "\n",
    "#The next step is to find time, which is taken from the Zone Time, which is in seconds,\n",
    "# and divided by 3600 to get hours\n",
    "\n",
    "#This allows for us to use the velocity formula and get our adjusted velocity with extension, the first part of\n",
    "# Effective Velocity\n",
    "\n",
    "#The next step is about plate location and the impact that has on EV.  In order to do this we had to create\n",
    "# a coefficient to represent the change in speed based on plate location.\n",
    "\n",
    "#2.75mph is how much velocity is added or subtracted for every six\n",
    "# inches depending on if it is away or in to a batter, We then  divide 2.75 by 6 to get a constant.  \n",
    "# From there we take the height of the top of the zone which is 3.41 feet on average from our research, \n",
    "# and subtract it from the PlateLocHeight, or y.  We then take the length of  half of homeplate and divide\n",
    "# it by 12 so that it is in feet instead of inches, and subtract PlateLocSide\n",
    "\n",
    "#Finally we return the velocity plus the coefficient (which can be positive or negative)\n",
    "\n",
    "\n",
    "def EV(x,y,e,t, batter_side):\n",
    "    num_miles = (60.5-e)/5280\n",
    "    num_hours = t/3600\n",
    "    v = num_miles/num_hours\n",
    "    coeff = 0\n",
    "    if batter_side == \"Right\":\n",
    "        coeff = ((2.75/6)*(3.41-y))/(8.5/12-x)\n",
    "    elif batter_side == \"Left\":\n",
    "        coeff = ((2.75/6)*(3.41-y))/(x-8.5/12)\n",
    "    return v + coeff\n",
    "    "
   ]
  },
  {
   "cell_type": "code",
   "execution_count": 5,
   "metadata": {},
   "outputs": [
    {
     "data": {
      "text/plain": [
       "97.02393492820697"
      ]
     },
     "execution_count": 5,
     "metadata": {},
     "output_type": "execute_result"
    }
   ],
   "source": [
    "#Here we test the first pitch\n",
    "EV(.726503,3.85267, 6.075, .432204, \"Right\")"
   ]
  },
  {
   "cell_type": "code",
   "execution_count": 6,
   "metadata": {},
   "outputs": [],
   "source": [
    "# Here we use the apply function to get an array of EV's that match up with our data set.\n",
    "EV_Arr = Cal_Pitchers.apply(EV, \"PlateLocSide\", \"PlateLocHeight\", \"Extension\", \"ZoneTime\", \"BatterSide\")"
   ]
  },
  {
   "cell_type": "code",
   "execution_count": 7,
   "metadata": {},
   "outputs": [],
   "source": [
    "# Here we add the array of EV's to the table\n",
    "Cal_Pitchers = Cal_Pitchers.with_columns(\"EV\", EV_Arr)"
   ]
  },
  {
   "cell_type": "code",
   "execution_count": 8,
   "metadata": {},
   "outputs": [
    {
     "data": {
      "text/html": [
       "<table border=\"1\" class=\"dataframe\">\n",
       "    <thead>\n",
       "        <tr>\n",
       "            <th>Pitcher</th> <th>ChangeUp</th> <th>Curveball</th> <th>Cutter</th> <th>Fastball</th> <th>Other</th> <th>Sinker</th> <th>Slider</th> <th>Splitter</th> <th>Undefined</th>\n",
       "        </tr>\n",
       "    </thead>\n",
       "    <tbody>\n",
       "        <tr>\n",
       "            <td>Delmore, Jack      </td> <td>79.7529 </td> <td>0        </td> <td>0      </td> <td>85.6207 </td> <td>0      </td> <td>86.8129</td> <td>79.8684</td> <td>0       </td> <td>0        </td>\n",
       "        </tr>\n",
       "        <tr>\n",
       "            <td>Drogin, Reuben     </td> <td>0       </td> <td>0        </td> <td>0      </td> <td>88.3644 </td> <td>0      </td> <td>0      </td> <td>78.5816</td> <td>0       </td> <td>nan      </td>\n",
       "        </tr>\n",
       "        <tr>\n",
       "            <td>Gather, Lucas      </td> <td>81.1439 </td> <td>78.1122  </td> <td>87.6514</td> <td>88.1298 </td> <td>0      </td> <td>0      </td> <td>78.1733</td> <td>0       </td> <td>0        </td>\n",
       "        </tr>\n",
       "        <tr>\n",
       "            <td>Holman, Grant      </td> <td>79.2121 </td> <td>75.8761  </td> <td>86.7483</td> <td>88.9638 </td> <td>83.2321</td> <td>0      </td> <td>81.6423</td> <td>0       </td> <td>0        </td>\n",
       "        </tr>\n",
       "        <tr>\n",
       "            <td>King, Joseph       </td> <td>81.9686 </td> <td>79.9848  </td> <td>0      </td> <td>96.4721 </td> <td>0      </td> <td>87.9596</td> <td>83.2153</td> <td>81.2635 </td> <td>nan      </td>\n",
       "        </tr>\n",
       "        <tr>\n",
       "            <td>Mauterer, Vaughn   </td> <td>78.8644 </td> <td>71.067   </td> <td>0      </td> <td>86.192  </td> <td>0      </td> <td>0      </td> <td>79.468 </td> <td>77.4333 </td> <td>nan      </td>\n",
       "        </tr>\n",
       "        <tr>\n",
       "            <td>Olson, Carson      </td> <td>78.8756 </td> <td>75.5601  </td> <td>0      </td> <td>86.589  </td> <td>0      </td> <td>0      </td> <td>75.6245</td> <td>0       </td> <td>nan      </td>\n",
       "        </tr>\n",
       "        <tr>\n",
       "            <td>Proctor, Nick      </td> <td>80.8393 </td> <td>76.9737  </td> <td>0      </td> <td>86.3772 </td> <td>79.3272</td> <td>84.9557</td> <td>78.7678</td> <td>0       </td> <td>nan      </td>\n",
       "        </tr>\n",
       "        <tr>\n",
       "            <td>Scott, Mitchell    </td> <td>80.1503 </td> <td>71.9797  </td> <td>0      </td> <td>85.1278 </td> <td>72.57  </td> <td>0      </td> <td>78.5611</td> <td>0       </td> <td>nan      </td>\n",
       "        </tr>\n",
       "        <tr>\n",
       "            <td>Stoutenborough, Sam</td> <td>75.7163 </td> <td>75.7954  </td> <td>83.2335</td> <td>85.8476 </td> <td>0      </td> <td>84.6916</td> <td>79.2139</td> <td>76.6759 </td> <td>nan      </td>\n",
       "        </tr>\n",
       "        <tr>\n",
       "            <td>Sullivan, Sean     </td> <td>82.054  </td> <td>79.8892  </td> <td>93.2639</td> <td>78.9321 </td> <td>0      </td> <td>0      </td> <td>81.0233</td> <td>0       </td> <td>0        </td>\n",
       "        </tr>\n",
       "        <tr>\n",
       "            <td>Villers, Ian       </td> <td>87.4168 </td> <td>78.3069  </td> <td>0      </td> <td>90.4948 </td> <td>0      </td> <td>0      </td> <td>83.5928</td> <td>0       </td> <td>0        </td>\n",
       "        </tr>\n",
       "        <tr>\n",
       "            <td>White, Josh        </td> <td>76.9155 </td> <td>76.6156  </td> <td>79.3533</td> <td>85.1463 </td> <td>77.0906</td> <td>0      </td> <td>76.9285</td> <td>85.8318 </td> <td>0        </td>\n",
       "        </tr>\n",
       "        <tr>\n",
       "            <td>White, Joshua      </td> <td>77.4772 </td> <td>77.0272  </td> <td>0      </td> <td>87.4043 </td> <td>0      </td> <td>0      </td> <td>78.0283</td> <td>78.375  </td> <td>0        </td>\n",
       "        </tr>\n",
       "        <tr>\n",
       "            <td>Wolger, Jack       </td> <td>75.0808 </td> <td>68.3129  </td> <td>0      </td> <td>83.7586 </td> <td>0      </td> <td>74.9872</td> <td>73.1619</td> <td>77      </td> <td>0        </td>\n",
       "        </tr>\n",
       "        <tr>\n",
       "            <td>Zobac, Steven      </td> <td>77.0215 </td> <td>74.8065  </td> <td>82.7931</td> <td>87.4797 </td> <td>28.905 </td> <td>87.6255</td> <td>81.6308</td> <td>0       </td> <td>0        </td>\n",
       "        </tr>\n",
       "    </tbody>\n",
       "</table>"
      ],
      "text/plain": [
       "<IPython.core.display.HTML object>"
      ]
     },
     "metadata": {},
     "output_type": "display_data"
    }
   ],
   "source": [
    "# Now we create a pivot table in order to get the average EV's by pitch type for each individual pitcher\n",
    "false_pitchers = [\"Kay, Jesse\", \"Mcilwain, Brandon\", \"Reyes, Rogelio\", \"Vaughn, Andrew\"]\n",
    "EV_table = Cal_Pitchers.pivot(\"AutoPitchType\", \"Pitcher\", \"EV\", np.mean).where(\"Pitcher\", are.not_contained_in(false_pitchers))\n",
    "EV_table.show()"
   ]
  },
  {
   "cell_type": "code",
   "execution_count": 9,
   "metadata": {},
   "outputs": [
    {
     "data": {
      "text/html": [
       "<table border=\"1\" class=\"dataframe\">\n",
       "    <thead>\n",
       "        <tr>\n",
       "            <th>Pitcher</th> <th>ChangeUp</th> <th>Curveball</th> <th>Cutter</th> <th>Fastball</th> <th>Other</th> <th>Sinker</th> <th>Slider</th> <th>Splitter</th> <th>Undefined</th>\n",
       "        </tr>\n",
       "    </thead>\n",
       "    <tbody>\n",
       "        <tr>\n",
       "            <td>Delmore, Jack      </td> <td>80.9108 </td> <td>0        </td> <td>0      </td> <td>88.0501 </td> <td>0      </td> <td>87.4494</td> <td>81.9483</td> <td>0       </td> <td>0        </td>\n",
       "        </tr>\n",
       "        <tr>\n",
       "            <td>Drogin, Reuben     </td> <td>0       </td> <td>0        </td> <td>0      </td> <td>88.1593 </td> <td>0      </td> <td>0      </td> <td>79.6952</td> <td>0       </td> <td>nan      </td>\n",
       "        </tr>\n",
       "        <tr>\n",
       "            <td>Gather, Lucas      </td> <td>82.7154 </td> <td>75.508   </td> <td>89.5998</td> <td>89.9449 </td> <td>0      </td> <td>0      </td> <td>79.2648</td> <td>0       </td> <td>0        </td>\n",
       "        </tr>\n",
       "        <tr>\n",
       "            <td>Holman, Grant      </td> <td>81.7962 </td> <td>77.2312  </td> <td>89.5596</td> <td>91.2722 </td> <td>84.027 </td> <td>0      </td> <td>82.0405</td> <td>0       </td> <td>0        </td>\n",
       "        </tr>\n",
       "        <tr>\n",
       "            <td>King, Joseph       </td> <td>84.7843 </td> <td>79.9956  </td> <td>0      </td> <td>92.7963 </td> <td>0      </td> <td>89.1959</td> <td>85.7001</td> <td>84.8311 </td> <td>nan      </td>\n",
       "        </tr>\n",
       "        <tr>\n",
       "            <td>Mauterer, Vaughn   </td> <td>79.4826 </td> <td>72.4732  </td> <td>0      </td> <td>89.0348 </td> <td>0      </td> <td>0      </td> <td>81.3096</td> <td>79.2675 </td> <td>nan      </td>\n",
       "        </tr>\n",
       "        <tr>\n",
       "            <td>Olson, Carson      </td> <td>80.6033 </td> <td>77.1223  </td> <td>0      </td> <td>88.2076 </td> <td>0      </td> <td>0      </td> <td>77.8695</td> <td>0       </td> <td>nan      </td>\n",
       "        </tr>\n",
       "        <tr>\n",
       "            <td>Proctor, Nick      </td> <td>84.4048 </td> <td>78.3351  </td> <td>0      </td> <td>88.8868 </td> <td>81.1214</td> <td>86.7703</td> <td>80.5925</td> <td>0       </td> <td>nan      </td>\n",
       "        </tr>\n",
       "        <tr>\n",
       "            <td>Scott, Mitchell    </td> <td>79.1899 </td> <td>73.6443  </td> <td>0      </td> <td>87.2518 </td> <td>74.1753</td> <td>0      </td> <td>80.0184</td> <td>0       </td> <td>nan      </td>\n",
       "        </tr>\n",
       "        <tr>\n",
       "            <td>Stoutenborough, Sam</td> <td>78.4128 </td> <td>77.5236  </td> <td>85.9809</td> <td>87.5713 </td> <td>0      </td> <td>88.6013</td> <td>80.5324</td> <td>78.342  </td> <td>nan      </td>\n",
       "        </tr>\n",
       "        <tr>\n",
       "            <td>Sullivan, Sean     </td> <td>83.3604 </td> <td>78.2062  </td> <td>91.1737</td> <td>89.0297 </td> <td>0      </td> <td>0      </td> <td>81.5358</td> <td>0       </td> <td>0        </td>\n",
       "        </tr>\n",
       "        <tr>\n",
       "            <td>Villers, Ian       </td> <td>87.9252 </td> <td>80.0757  </td> <td>0      </td> <td>93.7705 </td> <td>0      </td> <td>0      </td> <td>85.1609</td> <td>0       </td> <td>0        </td>\n",
       "        </tr>\n",
       "        <tr>\n",
       "            <td>White, Josh        </td> <td>81.6785 </td> <td>78.3454  </td> <td>90.8164</td> <td>89.093  </td> <td>78.7254</td> <td>0      </td> <td>79.3841</td> <td>80.8568 </td> <td>0        </td>\n",
       "        </tr>\n",
       "        <tr>\n",
       "            <td>White, Joshua      </td> <td>80.4732 </td> <td>79.0845  </td> <td>0      </td> <td>89.097  </td> <td>0      </td> <td>0      </td> <td>79.7604</td> <td>79.0226 </td> <td>0        </td>\n",
       "        </tr>\n",
       "        <tr>\n",
       "            <td>Wolger, Jack       </td> <td>76.8294 </td> <td>70.0432  </td> <td>0      </td> <td>83.9342 </td> <td>0      </td> <td>84.1063</td> <td>75.042 </td> <td>77.4988 </td> <td>0        </td>\n",
       "        </tr>\n",
       "        <tr>\n",
       "            <td>Zobac, Steven      </td> <td>81.6551 </td> <td>76.1269  </td> <td>83.9232</td> <td>89.5528 </td> <td>88.1974</td> <td>88.8045</td> <td>82.921 </td> <td>0       </td> <td>0        </td>\n",
       "        </tr>\n",
       "    </tbody>\n",
       "</table>"
      ],
      "text/plain": [
       "<IPython.core.display.HTML object>"
      ]
     },
     "metadata": {},
     "output_type": "display_data"
    }
   ],
   "source": [
    "# Now we create another pivot table in order to get the average velos by pitch type for each individual pitcher\n",
    "Rel_Speed = Cal_Pitchers.pivot(\"AutoPitchType\", \"Pitcher\", \"RelSpeed\", np.mean).where(\"Pitcher\", are.not_contained_in(false_pitchers))\n",
    "Rel_Speed.show()"
   ]
  },
  {
   "cell_type": "code",
   "execution_count": 10,
   "metadata": {},
   "outputs": [
    {
     "data": {
      "text/plain": [
       "('FB',\n",
       " -2.0731007677966033,\n",
       " 'CH',\n",
       " -4.633636573819544,\n",
       " 'SL',\n",
       " -1.290189649195824,\n",
       " 'CB',\n",
       " -1.3204300179280324)"
      ]
     },
     "execution_count": 10,
     "metadata": {},
     "output_type": "execute_result"
    }
   ],
   "source": [
    "def pitch_dif(pitcher):\n",
    "    \n",
    "    FB_EV_Arr = EV_table.where(\"Pitcher\", pitcher).column(\"Fastball\")\n",
    "    FB_RelSpeed_Arr = Rel_Speed.where(\"Pitcher\", pitcher).column(\"Fastball\")\n",
    "    FB_dif = FB_EV_Arr - FB_RelSpeed_Arr\n",
    "\n",
    "    CH_EV_Arr = EV_table.where(\"Pitcher\", pitcher).column(\"ChangeUp\")\n",
    "    CH_RelSpeed_Arr = Rel_Speed.where(\"Pitcher\", pitcher).column(\"ChangeUp\")\n",
    "    CH_dif = CH_EV_Arr - CH_RelSpeed_Arr\n",
    "\n",
    "    SL_EV_Arr = EV_table.where(\"Pitcher\", pitcher).column(\"Slider\")\n",
    "    SL_RelSpeed_Arr = Rel_Speed.where(\"Pitcher\", pitcher).column(\"Slider\")\n",
    "    SL_dif = SL_EV_Arr - SL_RelSpeed_Arr        \n",
    "\n",
    "    CB_EV_Arr = EV_table.where(\"Pitcher\", pitcher).column(\"Curveball\")\n",
    "    CB_RelSpeed_Arr = Rel_Speed.where(\"Pitcher\", pitcher).column(\"Curveball\")\n",
    "    CB_dif = CB_EV_Arr - CB_RelSpeed_Arr\n",
    "    return (\"FB\", FB_dif[0], \"CH\", CH_dif[0], \"SL\", SL_dif[0], \"CB\", CB_dif[0])\n",
    "pitch_dif(\"Zobac, Steven\")"
   ]
  },
  {
   "cell_type": "code",
   "execution_count": 11,
   "metadata": {},
   "outputs": [
    {
     "data": {
      "text/html": [
       "<table border=\"1\" class=\"dataframe\">\n",
       "    <thead>\n",
       "        <tr>\n",
       "            <th>PitchNo</th> <th>Date</th> <th>Time</th> <th>PaofInning</th> <th>PitchofPa</th> <th>Pitcher</th> <th>PitcherId</th> <th>PitcherThrows</th> <th>PitcherTeam</th> <th>Batter</th> <th>BatterId</th> <th>BatterSide</th> <th>BatterTeam</th> <th>PitcherSet</th> <th>Inning</th> <th>Top/Bottom</th> <th>Outs</th> <th>Balls</th> <th>Strikes</th> <th>TaggedPitchType</th> <th>AutoPitchType</th> <th>PitchCall</th> <th>KorBB</th> <th>HitType</th> <th>PlayResult</th> <th>OutsOnPlay</th> <th>RunsScored</th> <th>Notes</th> <th>RelSpeed</th> <th>VertRelAngle</th> <th>HorzRelAngle</th> <th>SpinRate</th> <th>SpinAxis</th> <th>Tilt</th> <th>RelHeight</th> <th>RelSide</th> <th>Extension</th> <th>VertBreak</th> <th>InducedVertBreak</th> <th>HorzBreak</th> <th>PlateLocHeight</th> <th>PlateLocSide</th> <th>ZoneSpeed</th> <th>VertApprAngle</th> <th>HorzApprAngle</th> <th>ZoneTime</th> <th>ExitSpeed</th> <th>Angle</th> <th>Direction</th> <th>HitSpinRate</th> <th>PositionAt110x</th> <th>PositionAt110y</th> <th>PositionAt110z</th> <th>Distance</th> <th>LastTrackedDistance</th> <th>Bearing</th> <th>HangTime</th> <th>pfxx</th> <th>pfxz</th> <th>x0</th> <th>y0</th> <th>z0</th> <th>vx0</th> <th>vy0</th> <th>vz0</th> <th>ax0</th> <th>ay0</th> <th>az0</th> <th>HomeTeam</th> <th>AwayTeam</th> <th>Stadium</th> <th>Level</th> <th>League</th> <th>GameID</th> <th>PitchUID</th> <th>EffectiveVelo</th> <th>MaxHeight</th> <th>MeasuredDuration</th> <th>SpeedDrop</th> <th>PitchLastMeasuredX</th> <th>PitchLastMeasuredY</th> <th>PitchLastMeasuredZ</th> <th>ContactPositionX</th> <th>ContactPositionY</th> <th>ContactPositionZ</th> <th>GameUID</th> <th>EV</th> <th>Bauer Units</th>\n",
       "        </tr>\n",
       "    </thead>\n",
       "    <tbody>\n",
       "        <tr>\n",
       "            <td>30     </td> <td>02/14/2020</td> <td>06:19:25 PM</td> <td>1         </td> <td>1        </td> <td>Stoutenborough, Sam</td> <td>1000016614</td> <td>Right        </td> <td>CAL_BEA    </td> <td>Estrada, Calvin</td> <td>1000049504</td> <td>Right     </td> <td>LON_DIR   </td> <td>Windup    </td> <td>1     </td> <td>Bottom    </td> <td>0   </td> <td>0    </td> <td>0      </td> <td>Fastball       </td> <td>Fastball     </td> <td>BallCalled    </td> <td>Undefined</td> <td>Undefined </td> <td>Undefined </td> <td>0         </td> <td>0         </td> <td>nan  </td> <td>87.7556 </td> <td>-0.782644   </td> <td>-0.547595   </td> <td>2146.12 </td> <td>199.48  </td> <td>12:45</td> <td>6.08206  </td> <td>0.701608</td> <td>6.075    </td> <td>-18.0628 </td> <td>17.998          </td> <td>6.37836  </td> <td>3.85267       </td> <td>0.726503    </td> <td>79.7209  </td> <td>-4.19755     </td> <td>0.66096      </td> <td>0.432204</td> <td>nan      </td> <td>nan     </td> <td>nan      </td> <td>nan        </td> <td>nan           </td> <td>nan           </td> <td>nan           </td> <td>nan     </td> <td>nan                </td> <td>nan     </td> <td>nan     </td> <td>-3.63135</td> <td>10.0198 </td> <td>-0.662705</td> <td>50  </td> <td>6.01201</td> <td>1.02433</td> <td>-127.725</td> <td>-2.30111 </td> <td>-5.95819</td> <td>27.9679</td> <td>-15.7339</td> <td>LON_DIR </td> <td>CAL_BEA </td> <td>BlairField</td> <td>NCAA </td> <td>BW    </td> <td>20200214-BlairField-1</td> <td>93965229-4f99-11ea-9a79-e4a7a0511e7b</td> <td>87.2096      </td> <td>nan      </td> <td>nan             </td> <td>8.03478  </td> <td>-0.617529         </td> <td>3.70064           </td> <td>-0.75093          </td> <td>nan             </td> <td>nan             </td> <td>nan             </td> <td>5f9402a1-8da2-4588-ac5c-e76318dd2ed7</td> <td>97.0238</td> <td>24.4556    </td>\n",
       "        </tr>\n",
       "        <tr>\n",
       "            <td>31     </td> <td>02/14/2020</td> <td>06:19:42 PM</td> <td>1         </td> <td>2        </td> <td>Stoutenborough, Sam</td> <td>1000016614</td> <td>Right        </td> <td>CAL_BEA    </td> <td>Estrada, Calvin</td> <td>1000049504</td> <td>Right     </td> <td>LON_DIR   </td> <td>Windup    </td> <td>1     </td> <td>Bottom    </td> <td>0   </td> <td>1    </td> <td>0      </td> <td>Fastball       </td> <td>Fastball     </td> <td>BallCalled    </td> <td>Undefined</td> <td>Undefined </td> <td>Undefined </td> <td>0         </td> <td>0         </td> <td>nan  </td> <td>87.5885 </td> <td>-2.31129    </td> <td>-1.87658    </td> <td>2182.98 </td> <td>198.227 </td> <td>12:30</td> <td>5.67498  </td> <td>0.916967</td> <td>6.39875  </td> <td>-24.6135 </td> <td>11.1076         </td> <td>3.66882  </td> <td>1.49629       </td> <td>-0.503468   </td> <td>80.1495  </td> <td>-6.96149     </td> <td>-1.17896     </td> <td>0.430164</td> <td>nan      </td> <td>nan     </td> <td>nan      </td> <td>nan        </td> <td>nan           </td> <td>nan           </td> <td>nan           </td> <td>nan     </td> <td>nan                </td> <td>nan     </td> <td>nan     </td> <td>-2.5575 </td> <td>6.77262 </td> <td>-0.784293</td> <td>50  </td> <td>5.49796</td> <td>4.06891</td> <td>-127.423</td> <td>-5.85686 </td> <td>-4.19022</td> <td>27.0328</td> <td>-21.0778</td> <td>LON_DIR </td> <td>CAL_BEA </td> <td>BlairField</td> <td>NCAA </td> <td>BW    </td> <td>20200214-BlairField-1</td> <td>a0834605-4f99-11ea-9a79-e4a7a0511e7b</td> <td>87.6233      </td> <td>nan      </td> <td>nan             </td> <td>7.43903  </td> <td>2.72842           </td> <td>1.65495           </td> <td>0.476244          </td> <td>nan             </td> <td>nan             </td> <td>nan             </td> <td>5f9402a1-8da2-4588-ac5c-e76318dd2ed7</td> <td>86.4753</td> <td>24.9231    </td>\n",
       "        </tr>\n",
       "        <tr>\n",
       "            <td>32     </td> <td>02/14/2020</td> <td>06:20:02 PM</td> <td>1         </td> <td>3        </td> <td>Stoutenborough, Sam</td> <td>1000016614</td> <td>Right        </td> <td>CAL_BEA    </td> <td>Estrada, Calvin</td> <td>1000049504</td> <td>Right     </td> <td>LON_DIR   </td> <td>Windup    </td> <td>1     </td> <td>Bottom    </td> <td>0   </td> <td>2    </td> <td>0      </td> <td>Fastball       </td> <td>Fastball     </td> <td>FoulBall      </td> <td>Undefined</td> <td>Undefined </td> <td>Undefined </td> <td>0         </td> <td>0         </td> <td>nan  </td> <td>87.4802 </td> <td>-0.231915   </td> <td>-0.650718   </td> <td>2049.31 </td> <td>199.812 </td> <td>12:45</td> <td>5.74795  </td> <td>0.774161</td> <td>6.18653  </td> <td>-21.3048 </td> <td>14.8958         </td> <td>5.37859  </td> <td>3.75843       </td> <td>0.621593    </td> <td>79.319   </td> <td>-4.27365     </td> <td>0.371646     </td> <td>0.433042</td> <td>104.113  </td> <td>27.0676 </td> <td>-38.1044 </td> <td>3035.8     </td> <td>82.8536       </td> <td>55.3776       </td> <td>-72.3547      </td> <td>405.102 </td> <td>109.184            </td> <td>-54.9182</td> <td>4.88452 </td> <td>-3.13626</td> <td>8.20783 </td> <td>-0.727892</td> <td>50  </td> <td>5.71971</td> <td>1.28493</td> <td>-127.337</td> <td>-1.15447 </td> <td>-5.10257</td> <td>28.3719</td> <td>-18.8202</td> <td>LON_DIR </td> <td>CAL_BEA </td> <td>BlairField</td> <td>NCAA </td> <td>BW    </td> <td>20200214-BlairField-1</td> <td>ad1fb3d7-4f99-11ea-9a79-e4a7a0511e7b</td> <td>87.041       </td> <td>83.3737  </td> <td>0.923149        </td> <td>8.16111  </td> <td>3.93081           </td> <td>3.94141           </td> <td>-0.60652          </td> <td>3.65625         </td> <td>3.9219          </td> <td>-0.608046       </td> <td>5f9402a1-8da2-4588-ac5c-e76318dd2ed7</td> <td>83.6748</td> <td>23.4259    </td>\n",
       "        </tr>\n",
       "        <tr>\n",
       "            <td>33     </td> <td>02/14/2020</td> <td>06:20:36 PM</td> <td>1         </td> <td>4        </td> <td>Stoutenborough, Sam</td> <td>1000016614</td> <td>Right        </td> <td>CAL_BEA    </td> <td>Estrada, Calvin</td> <td>1000049504</td> <td>Right     </td> <td>LON_DIR   </td> <td>Windup    </td> <td>1     </td> <td>Bottom    </td> <td>0   </td> <td>2    </td> <td>1      </td> <td>Slider         </td> <td>Curveball    </td> <td>InPlay        </td> <td>Undefined</td> <td>GroundBall</td> <td>Out       </td> <td>1         </td> <td>0         </td> <td>nan  </td> <td>78.9094 </td> <td>0.450775    </td> <td>-0.642607   </td> <td>2251.01 </td> <td>81.8498 </td> <td>8:45 </td> <td>5.56485  </td> <td>0.743551</td> <td>6.23382  </td> <td>-46.3035 </td> <td>-2.04189        </td> <td>-13.967  </td> <td>2.12205       </td> <td>-1.01313    </td> <td>72.4762  </td> <td>-8.27037     </td> <td>-3.29128     </td> <td>0.478834</td> <td>71.7182  </td> <td>-27.7437</td> <td>-10.575  </td> <td>nan        </td> <td>nan           </td> <td>nan           </td> <td>nan           </td> <td>8.48772 </td> <td>5.66709            </td> <td>0.104491</td> <td>0.050412</td> <td>7.44741 </td> <td>-1.24862</td> <td>-0.688752</td> <td>50  </td> <td>5.57538</td> <td>1.66431</td> <td>-114.896</td> <td>-0.34126 </td> <td>9.90195 </td> <td>22.3532</td> <td>-33.8342</td> <td>LON_DIR </td> <td>CAL_BEA </td> <td>BlairField</td> <td>NCAA </td> <td>BW    </td> <td>20200214-BlairField-1</td> <td>c04d391b-4f99-11ea-9a79-e4a7a0511e7b</td> <td>78.7169      </td> <td>2.47157  </td> <td>0.0191864       </td> <td>6.43321  </td> <td>4.08312           </td> <td>2.49839           </td> <td>0.863373          </td> <td>3.88743         </td> <td>2.47157         </td> <td>0.874121        </td> <td>5f9402a1-8da2-4588-ac5c-e76318dd2ed7</td> <td>77.6132</td> <td>28.5265    </td>\n",
       "        </tr>\n",
       "        <tr>\n",
       "            <td>34     </td> <td>02/14/2020</td> <td>06:21:14 PM</td> <td>2         </td> <td>1        </td> <td>Stoutenborough, Sam</td> <td>1000016614</td> <td>Right        </td> <td>CAL_BEA    </td> <td>Hughey, Jacob  </td> <td>8892281   </td> <td>Left      </td> <td>LON_DIR   </td> <td>Windup    </td> <td>1     </td> <td>Bottom    </td> <td>1   </td> <td>0    </td> <td>0      </td> <td>Fastball       </td> <td>Fastball     </td> <td>StrikeCalled  </td> <td>Undefined</td> <td>Undefined </td> <td>Undefined </td> <td>0         </td> <td>0         </td> <td>nan  </td> <td>89.1844 </td> <td>-0.364737   </td> <td>-1.49645    </td> <td>2183.32 </td> <td>237.196 </td> <td>2:00 </td> <td>5.76097  </td> <td>0.779023</td> <td>6.50124  </td> <td>-25.7341 </td> <td>8.79028         </td> <td>13.6883  </td> <td>3.28161       </td> <td>0.546062    </td> <td>80.7572  </td> <td>-5.27677     </td> <td>1.12427      </td> <td>0.422897</td> <td>nan      </td> <td>nan     </td> <td>nan      </td> <td>nan        </td> <td>nan           </td> <td>nan           </td> <td>nan           </td> <td>nan     </td> <td>nan                </td> <td>nan     </td> <td>nan     </td> <td>-8.03967</td> <td>4.9754  </td> <td>-0.680567</td> <td>50  </td> <td>5.72421</td> <td>3.00003</td> <td>-129.825</td> <td>-1.56278 </td> <td>-13.5494</td> <td>30.3556</td> <td>-23.7889</td> <td>LON_DIR </td> <td>CAL_BEA </td> <td>BlairField</td> <td>NCAA </td> <td>BW    </td> <td>20200214-BlairField-1</td> <td>d2312caf-4f99-11ea-9a79-e4a7a0511e7b</td> <td>89.129       </td> <td>nan      </td> <td>nan             </td> <td>8.42719  </td> <td>-0.0227527        </td> <td>3.14665           </td> <td>-0.575368         </td> <td>nan             </td> <td>nan             </td> <td>nan             </td> <td>5f9402a1-8da2-4588-ac5c-e76318dd2ed7</td> <td>86.6972</td> <td>24.481     </td>\n",
       "        </tr>\n",
       "        <tr>\n",
       "            <td>35     </td> <td>02/14/2020</td> <td>06:21:33 PM</td> <td>2         </td> <td>2        </td> <td>Stoutenborough, Sam</td> <td>1000016614</td> <td>Right        </td> <td>CAL_BEA    </td> <td>Hughey, Jacob  </td> <td>8892281   </td> <td>Left      </td> <td>LON_DIR   </td> <td>Windup    </td> <td>1     </td> <td>Bottom    </td> <td>1   </td> <td>0    </td> <td>1      </td> <td>Fastball       </td> <td>Fastball     </td> <td>StrikeSwinging</td> <td>Undefined</td> <td>Undefined </td> <td>Undefined </td> <td>0         </td> <td>0         </td> <td>nan  </td> <td>89.5547 </td> <td>-0.398498   </td> <td>-1.23209    </td> <td>2078.42 </td> <td>241.462 </td> <td>2:00 </td> <td>5.59819  </td> <td>1.0113  </td> <td>6.68261  </td> <td>-26.6847 </td> <td>7.21699         </td> <td>13.3299  </td> <td>3.00992       </td> <td>0.995121    </td> <td>81.376   </td> <td>-5.49985     </td> <td>1.32494      </td> <td>0.419066</td> <td>nan      </td> <td>nan     </td> <td>nan      </td> <td>nan        </td> <td>nan           </td> <td>nan           </td> <td>nan           </td> <td>nan     </td> <td>nan                </td> <td>nan     </td> <td>nan     </td> <td>-7.79205</td> <td>4.13648 </td> <td>-0.934577</td> <td>50  </td> <td>5.56086</td> <td>2.43644</td> <td>-130.44 </td> <td>-1.64612 </td> <td>-13.2944</td> <td>29.9308</td> <td>-25.1166</td> <td>LON_DIR </td> <td>CAL_BEA </td> <td>BlairField</td> <td>NCAA </td> <td>BW    </td> <td>20200214-BlairField-1</td> <td>e2fb9842-4f99-11ea-9a79-e4a7a0511e7b</td> <td>89.9439      </td> <td>nan      </td> <td>nan             </td> <td>8.17862  </td> <td>-0.281587         </td> <td>2.84349           </td> <td>-1.03583          </td> <td>nan             </td> <td>nan             </td> <td>nan             </td> <td>5f9402a1-8da2-4588-ac5c-e76318dd2ed7</td> <td>88.2001</td> <td>23.2084    </td>\n",
       "        </tr>\n",
       "        <tr>\n",
       "            <td>36     </td> <td>02/14/2020</td> <td>06:21:56 PM</td> <td>2         </td> <td>3        </td> <td>Stoutenborough, Sam</td> <td>1000016614</td> <td>Right        </td> <td>CAL_BEA    </td> <td>Hughey, Jacob  </td> <td>8892281   </td> <td>Left      </td> <td>LON_DIR   </td> <td>Windup    </td> <td>1     </td> <td>Bottom    </td> <td>1   </td> <td>0    </td> <td>2      </td> <td>ChangeUp       </td> <td>Splitter     </td> <td>StrikeSwinging</td> <td>Strikeout</td> <td>Undefined </td> <td>Undefined </td> <td>0         </td> <td>0         </td> <td>nan  </td> <td>78.9753 </td> <td>0.455224    </td> <td>-1.68679    </td> <td>1561.33 </td> <td>278.604 </td> <td>3:15 </td> <td>5.57304  </td> <td>0.707927</td> <td>6.79008  </td> <td>-44.9106 </td> <td>-1.68464        </td> <td>10.8649  </td> <td>2.24616       </td> <td>0.0733738   </td> <td>72.482   </td> <td>-8.10149     </td> <td>0.39604      </td> <td>0.473199</td> <td>nan      </td> <td>nan     </td> <td>nan      </td> <td>nan        </td> <td>nan           </td> <td>nan           </td> <td>nan           </td> <td>nan     </td> <td>nan                </td> <td>nan     </td> <td>nan     </td> <td>-6.55125</td> <td>-1.07222</td> <td>-0.602854</td> <td>50  </td> <td>5.58526</td> <td>3.12844</td> <td>-115.061</td> <td>-0.159883</td> <td>-8.74247</td> <td>22.2593</td> <td>-33.6049</td> <td>LON_DIR </td> <td>CAL_BEA </td> <td>BlairField</td> <td>NCAA </td> <td>BW    </td> <td>20200214-BlairField-1</td> <td>ed0647f9-4f99-11ea-9a79-e4a7a0511e7b</td> <td>79.6544      </td> <td>nan      </td> <td>nan             </td> <td>6.49327  </td> <td>0.450857          </td> <td>2.10712           </td> <td>-0.0804251        </td> <td>nan             </td> <td>nan             </td> <td>nan             </td> <td>5f9402a1-8da2-4588-ac5c-e76318dd2ed7</td> <td>76.5489</td> <td>19.7698    </td>\n",
       "        </tr>\n",
       "        <tr>\n",
       "            <td>37     </td> <td>02/14/2020</td> <td>06:22:29 PM</td> <td>3         </td> <td>1        </td> <td>Stoutenborough, Sam</td> <td>1000016614</td> <td>Right        </td> <td>CAL_BEA    </td> <td>Malm, Aidan    </td> <td>1000049511</td> <td>Right     </td> <td>LON_DIR   </td> <td>Windup    </td> <td>1     </td> <td>Bottom    </td> <td>2   </td> <td>0    </td> <td>0      </td> <td>Fastball       </td> <td>Fastball     </td> <td>StrikeCalled  </td> <td>Undefined</td> <td>Undefined </td> <td>Undefined </td> <td>0         </td> <td>0         </td> <td>nan  </td> <td>89.398  </td> <td>-2.81064    </td> <td>-1.63287    </td> <td>2128.78 </td> <td>204.855 </td> <td>12:45</td> <td>5.95526  </td> <td>0.614687</td> <td>6.26064  </td> <td>-16.6515 </td> <td>18.0391         </td> <td>8.37128  </td> <td>1.97328       </td> <td>-0.193509   </td> <td>81.1037  </td> <td>-5.96295     </td> <td>-0.0393809   </td> <td>0.423913</td> <td>nan      </td> <td>nan     </td> <td>nan      </td> <td>nan        </td> <td>nan           </td> <td>nan           </td> <td>nan           </td> <td>nan     </td> <td>nan                </td> <td>nan     </td> <td>nan     </td> <td>-5.0864 </td> <td>10.7444 </td> <td>-0.497939</td> <td>50  </td> <td>5.73888</td> <td>3.4518 </td> <td>-129.94 </td> <td>-6.88391 </td> <td>-8.61117</td> <td>29.7177</td> <td>-13.984 </td> <td>LON_DIR </td> <td>CAL_BEA </td> <td>BlairField</td> <td>NCAA </td> <td>BW    </td> <td>20200214-BlairField-1</td> <td>feea3d48-4f99-11ea-9a79-e4a7a0511e7b</td> <td>88.9153      </td> <td>nan      </td> <td>nan             </td> <td>8.29431  </td> <td>1.45571           </td> <td>1.97736           </td> <td>0.193481          </td> <td>nan             </td> <td>nan             </td> <td>nan             </td> <td>5f9402a1-8da2-4588-ac5c-e76318dd2ed7</td> <td>87.9682</td> <td>23.8123    </td>\n",
       "        </tr>\n",
       "        <tr>\n",
       "            <td>38     </td> <td>02/14/2020</td> <td>06:22:45 PM</td> <td>3         </td> <td>2        </td> <td>Stoutenborough, Sam</td> <td>1000016614</td> <td>Right        </td> <td>CAL_BEA    </td> <td>Malm, Aidan    </td> <td>1000049511</td> <td>Right     </td> <td>LON_DIR   </td> <td>Windup    </td> <td>1     </td> <td>Bottom    </td> <td>2   </td> <td>0    </td> <td>1      </td> <td>Slider         </td> <td>Curveball    </td> <td>BallCalled    </td> <td>Undefined</td> <td>Undefined </td> <td>Undefined </td> <td>0         </td> <td>0         </td> <td>nan  </td> <td>79.0833 </td> <td>-0.461835   </td> <td>-1.53314    </td> <td>2427.9  </td> <td>74.6838 </td> <td>8:30 </td> <td>5.64574  </td> <td>0.71439 </td> <td>6.37289  </td> <td>-48.0277 </td> <td>-3.89034        </td> <td>-14.0534 </td> <td>1.2184        </td> <td>-1.86751    </td> <td>72.4605  </td> <td>-9.52338     </td> <td>-4.21092     </td> <td>0.478161</td> <td>nan      </td> <td>nan     </td> <td>nan      </td> <td>nan        </td> <td>nan           </td> <td>nan           </td> <td>nan           </td> <td>nan     </td> <td>nan                </td> <td>nan     </td> <td>nan     </td> <td>7.25274 </td> <td>-1.99595</td> <td>-0.597391</td> <td>50  </td> <td>5.59011</td> <td>3.44637</td> <td>-115.091</td> <td>-2.17885 </td> <td>9.60528 </td> <td>23.8743</td> <td>-34.8174</td> <td>LON_DIR </td> <td>CAL_BEA </td> <td>BlairField</td> <td>NCAA </td> <td>BW    </td> <td>20200214-BlairField-1</td> <td>0db23992-4f9a-11ea-9a79-e4a7a0511e7b</td> <td>78.8277      </td> <td>nan      </td> <td>nan             </td> <td>6.6228   </td> <td>1.39529           </td> <td>1.2148            </td> <td>1.86908           </td> <td>nan             </td> <td>nan             </td> <td>nan             </td> <td>5f9402a1-8da2-4588-ac5c-e76318dd2ed7</td> <td>77.5707</td> <td>30.7005    </td>\n",
       "        </tr>\n",
       "        <tr>\n",
       "            <td>39     </td> <td>02/14/2020</td> <td>06:23:01 PM</td> <td>3         </td> <td>3        </td> <td>Stoutenborough, Sam</td> <td>1000016614</td> <td>Right        </td> <td>CAL_BEA    </td> <td>Malm, Aidan    </td> <td>1000049511</td> <td>Right     </td> <td>LON_DIR   </td> <td>Windup    </td> <td>1     </td> <td>Bottom    </td> <td>2   </td> <td>1    </td> <td>1      </td> <td>Slider         </td> <td>Curveball    </td> <td>BallCalled    </td> <td>Undefined</td> <td>Undefined </td> <td>Undefined </td> <td>0         </td> <td>0         </td> <td>nan  </td> <td>79.0236 </td> <td>-0.556129   </td> <td>-0.530597   </td> <td>2423.73 </td> <td>81.7883 </td> <td>8:45 </td> <td>5.60201  </td> <td>0.858997</td> <td>6.39135  </td> <td>-46.254  </td> <td>-2.57758        </td> <td>-17.5767 </td> <td>1.23602       </td> <td>-1.0937     </td> <td>73.1569  </td> <td>-9.24216     </td> <td>-3.8643      </td> <td>0.475658</td> <td>nan      </td> <td>nan     </td> <td>nan      </td> <td>nan        </td> <td>nan           </td> <td>nan           </td> <td>nan           </td> <td>nan     </td> <td>nan                </td> <td>nan     </td> <td>nan     </td> <td>9.50516 </td> <td>-1.26006</td> <td>-0.812756</td> <td>50  </td> <td>5.54057</td> <td>1.52673</td> <td>-115.126</td> <td>-2.3295  </td> <td>12.7487 </td> <td>21.502 </td> <td>-33.8641</td> <td>LON_DIR </td> <td>CAL_BEA </td> <td>BlairField</td> <td>NCAA </td> <td>BW    </td> <td>20200214-BlairField-1</td> <td>1734b75c-4f9a-11ea-9a79-e4a7a0511e7b</td> <td>79.2426      </td> <td>nan      </td> <td>nan             </td> <td>5.8666   </td> <td>1.13908           </td> <td>1.19062           </td> <td>1.1125            </td> <td>nan             </td> <td>nan             </td> <td>nan             </td> <td>5f9402a1-8da2-4588-ac5c-e76318dd2ed7</td> <td>78.1134</td> <td>30.671     </td>\n",
       "        </tr>\n",
       "    </tbody>\n",
       "</table>\n",
       "<p>... (2338 rows omitted)</p>"
      ],
      "text/plain": [
       "PitchNo | Date       | Time        | PaofInning | PitchofPa | Pitcher             | PitcherId  | PitcherThrows | PitcherTeam | Batter          | BatterId   | BatterSide | BatterTeam | PitcherSet | Inning | Top/Bottom | Outs | Balls | Strikes | TaggedPitchType | AutoPitchType | PitchCall      | KorBB     | HitType    | PlayResult | OutsOnPlay | RunsScored | Notes | RelSpeed | VertRelAngle | HorzRelAngle | SpinRate | SpinAxis | Tilt  | RelHeight | RelSide  | Extension | VertBreak | InducedVertBreak | HorzBreak | PlateLocHeight | PlateLocSide | ZoneSpeed | VertApprAngle | HorzApprAngle | ZoneTime | ExitSpeed | Angle    | Direction | HitSpinRate | PositionAt110x | PositionAt110y | PositionAt110z | Distance | LastTrackedDistance | Bearing  | HangTime | pfxx     | pfxz     | x0        | y0   | z0      | vx0     | vy0      | vz0       | ax0      | ay0     | az0      | HomeTeam | AwayTeam | Stadium    | Level | League | GameID                | PitchUID                             | EffectiveVelo | MaxHeight | MeasuredDuration | SpeedDrop | PitchLastMeasuredX | PitchLastMeasuredY | PitchLastMeasuredZ | ContactPositionX | ContactPositionY | ContactPositionZ | GameUID                              | EV      | Bauer Units\n",
       "30      | 02/14/2020 | 06:19:25 PM | 1          | 1         | Stoutenborough, Sam | 1000016614 | Right         | CAL_BEA     | Estrada, Calvin | 1000049504 | Right      | LON_DIR    | Windup     | 1      | Bottom     | 0    | 0     | 0       | Fastball        | Fastball      | BallCalled     | Undefined | Undefined  | Undefined  | 0          | 0          | nan   | 87.7556  | -0.782644    | -0.547595    | 2146.12  | 199.48   | 12:45 | 6.08206   | 0.701608 | 6.075     | -18.0628  | 17.998           | 6.37836   | 3.85267        | 0.726503     | 79.7209   | -4.19755      | 0.66096       | 0.432204 | nan       | nan      | nan       | nan         | nan            | nan            | nan            | nan      | nan                 | nan      | nan      | -3.63135 | 10.0198  | -0.662705 | 50   | 6.01201 | 1.02433 | -127.725 | -2.30111  | -5.95819 | 27.9679 | -15.7339 | LON_DIR  | CAL_BEA  | BlairField | NCAA  | BW     | 20200214-BlairField-1 | 93965229-4f99-11ea-9a79-e4a7a0511e7b | 87.2096       | nan       | nan              | 8.03478   | -0.617529          | 3.70064            | -0.75093           | nan              | nan              | nan              | 5f9402a1-8da2-4588-ac5c-e76318dd2ed7 | 97.0238 | 24.4556\n",
       "31      | 02/14/2020 | 06:19:42 PM | 1          | 2         | Stoutenborough, Sam | 1000016614 | Right         | CAL_BEA     | Estrada, Calvin | 1000049504 | Right      | LON_DIR    | Windup     | 1      | Bottom     | 0    | 1     | 0       | Fastball        | Fastball      | BallCalled     | Undefined | Undefined  | Undefined  | 0          | 0          | nan   | 87.5885  | -2.31129     | -1.87658     | 2182.98  | 198.227  | 12:30 | 5.67498   | 0.916967 | 6.39875   | -24.6135  | 11.1076          | 3.66882   | 1.49629        | -0.503468    | 80.1495   | -6.96149      | -1.17896      | 0.430164 | nan       | nan      | nan       | nan         | nan            | nan            | nan            | nan      | nan                 | nan      | nan      | -2.5575  | 6.77262  | -0.784293 | 50   | 5.49796 | 4.06891 | -127.423 | -5.85686  | -4.19022 | 27.0328 | -21.0778 | LON_DIR  | CAL_BEA  | BlairField | NCAA  | BW     | 20200214-BlairField-1 | a0834605-4f99-11ea-9a79-e4a7a0511e7b | 87.6233       | nan       | nan              | 7.43903   | 2.72842            | 1.65495            | 0.476244           | nan              | nan              | nan              | 5f9402a1-8da2-4588-ac5c-e76318dd2ed7 | 86.4753 | 24.9231\n",
       "32      | 02/14/2020 | 06:20:02 PM | 1          | 3         | Stoutenborough, Sam | 1000016614 | Right         | CAL_BEA     | Estrada, Calvin | 1000049504 | Right      | LON_DIR    | Windup     | 1      | Bottom     | 0    | 2     | 0       | Fastball        | Fastball      | FoulBall       | Undefined | Undefined  | Undefined  | 0          | 0          | nan   | 87.4802  | -0.231915    | -0.650718    | 2049.31  | 199.812  | 12:45 | 5.74795   | 0.774161 | 6.18653   | -21.3048  | 14.8958          | 5.37859   | 3.75843        | 0.621593     | 79.319    | -4.27365      | 0.371646      | 0.433042 | 104.113   | 27.0676  | -38.1044  | 3035.8      | 82.8536        | 55.3776        | -72.3547       | 405.102  | 109.184             | -54.9182 | 4.88452  | -3.13626 | 8.20783  | -0.727892 | 50   | 5.71971 | 1.28493 | -127.337 | -1.15447  | -5.10257 | 28.3719 | -18.8202 | LON_DIR  | CAL_BEA  | BlairField | NCAA  | BW     | 20200214-BlairField-1 | ad1fb3d7-4f99-11ea-9a79-e4a7a0511e7b | 87.041        | 83.3737   | 0.923149         | 8.16111   | 3.93081            | 3.94141            | -0.60652           | 3.65625          | 3.9219           | -0.608046        | 5f9402a1-8da2-4588-ac5c-e76318dd2ed7 | 83.6748 | 23.4259\n",
       "33      | 02/14/2020 | 06:20:36 PM | 1          | 4         | Stoutenborough, Sam | 1000016614 | Right         | CAL_BEA     | Estrada, Calvin | 1000049504 | Right      | LON_DIR    | Windup     | 1      | Bottom     | 0    | 2     | 1       | Slider          | Curveball     | InPlay         | Undefined | GroundBall | Out        | 1          | 0          | nan   | 78.9094  | 0.450775     | -0.642607    | 2251.01  | 81.8498  | 8:45  | 5.56485   | 0.743551 | 6.23382   | -46.3035  | -2.04189         | -13.967   | 2.12205        | -1.01313     | 72.4762   | -8.27037      | -3.29128      | 0.478834 | 71.7182   | -27.7437 | -10.575   | nan         | nan            | nan            | nan            | 8.48772  | 5.66709             | 0.104491 | 0.050412 | 7.44741  | -1.24862 | -0.688752 | 50   | 5.57538 | 1.66431 | -114.896 | -0.34126  | 9.90195  | 22.3532 | -33.8342 | LON_DIR  | CAL_BEA  | BlairField | NCAA  | BW     | 20200214-BlairField-1 | c04d391b-4f99-11ea-9a79-e4a7a0511e7b | 78.7169       | 2.47157   | 0.0191864        | 6.43321   | 4.08312            | 2.49839            | 0.863373           | 3.88743          | 2.47157          | 0.874121         | 5f9402a1-8da2-4588-ac5c-e76318dd2ed7 | 77.6132 | 28.5265\n",
       "34      | 02/14/2020 | 06:21:14 PM | 2          | 1         | Stoutenborough, Sam | 1000016614 | Right         | CAL_BEA     | Hughey, Jacob   | 8892281    | Left       | LON_DIR    | Windup     | 1      | Bottom     | 1    | 0     | 0       | Fastball        | Fastball      | StrikeCalled   | Undefined | Undefined  | Undefined  | 0          | 0          | nan   | 89.1844  | -0.364737    | -1.49645     | 2183.32  | 237.196  | 2:00  | 5.76097   | 0.779023 | 6.50124   | -25.7341  | 8.79028          | 13.6883   | 3.28161        | 0.546062     | 80.7572   | -5.27677      | 1.12427       | 0.422897 | nan       | nan      | nan       | nan         | nan            | nan            | nan            | nan      | nan                 | nan      | nan      | -8.03967 | 4.9754   | -0.680567 | 50   | 5.72421 | 3.00003 | -129.825 | -1.56278  | -13.5494 | 30.3556 | -23.7889 | LON_DIR  | CAL_BEA  | BlairField | NCAA  | BW     | 20200214-BlairField-1 | d2312caf-4f99-11ea-9a79-e4a7a0511e7b | 89.129        | nan       | nan              | 8.42719   | -0.0227527         | 3.14665            | -0.575368          | nan              | nan              | nan              | 5f9402a1-8da2-4588-ac5c-e76318dd2ed7 | 86.6972 | 24.481\n",
       "35      | 02/14/2020 | 06:21:33 PM | 2          | 2         | Stoutenborough, Sam | 1000016614 | Right         | CAL_BEA     | Hughey, Jacob   | 8892281    | Left       | LON_DIR    | Windup     | 1      | Bottom     | 1    | 0     | 1       | Fastball        | Fastball      | StrikeSwinging | Undefined | Undefined  | Undefined  | 0          | 0          | nan   | 89.5547  | -0.398498    | -1.23209     | 2078.42  | 241.462  | 2:00  | 5.59819   | 1.0113   | 6.68261   | -26.6847  | 7.21699          | 13.3299   | 3.00992        | 0.995121     | 81.376    | -5.49985      | 1.32494       | 0.419066 | nan       | nan      | nan       | nan         | nan            | nan            | nan            | nan      | nan                 | nan      | nan      | -7.79205 | 4.13648  | -0.934577 | 50   | 5.56086 | 2.43644 | -130.44  | -1.64612  | -13.2944 | 29.9308 | -25.1166 | LON_DIR  | CAL_BEA  | BlairField | NCAA  | BW     | 20200214-BlairField-1 | e2fb9842-4f99-11ea-9a79-e4a7a0511e7b | 89.9439       | nan       | nan              | 8.17862   | -0.281587          | 2.84349            | -1.03583           | nan              | nan              | nan              | 5f9402a1-8da2-4588-ac5c-e76318dd2ed7 | 88.2001 | 23.2084\n",
       "36      | 02/14/2020 | 06:21:56 PM | 2          | 3         | Stoutenborough, Sam | 1000016614 | Right         | CAL_BEA     | Hughey, Jacob   | 8892281    | Left       | LON_DIR    | Windup     | 1      | Bottom     | 1    | 0     | 2       | ChangeUp        | Splitter      | StrikeSwinging | Strikeout | Undefined  | Undefined  | 0          | 0          | nan   | 78.9753  | 0.455224     | -1.68679     | 1561.33  | 278.604  | 3:15  | 5.57304   | 0.707927 | 6.79008   | -44.9106  | -1.68464         | 10.8649   | 2.24616        | 0.0733738    | 72.482    | -8.10149      | 0.39604       | 0.473199 | nan       | nan      | nan       | nan         | nan            | nan            | nan            | nan      | nan                 | nan      | nan      | -6.55125 | -1.07222 | -0.602854 | 50   | 5.58526 | 3.12844 | -115.061 | -0.159883 | -8.74247 | 22.2593 | -33.6049 | LON_DIR  | CAL_BEA  | BlairField | NCAA  | BW     | 20200214-BlairField-1 | ed0647f9-4f99-11ea-9a79-e4a7a0511e7b | 79.6544       | nan       | nan              | 6.49327   | 0.450857           | 2.10712            | -0.0804251         | nan              | nan              | nan              | 5f9402a1-8da2-4588-ac5c-e76318dd2ed7 | 76.5489 | 19.7698\n",
       "37      | 02/14/2020 | 06:22:29 PM | 3          | 1         | Stoutenborough, Sam | 1000016614 | Right         | CAL_BEA     | Malm, Aidan     | 1000049511 | Right      | LON_DIR    | Windup     | 1      | Bottom     | 2    | 0     | 0       | Fastball        | Fastball      | StrikeCalled   | Undefined | Undefined  | Undefined  | 0          | 0          | nan   | 89.398   | -2.81064     | -1.63287     | 2128.78  | 204.855  | 12:45 | 5.95526   | 0.614687 | 6.26064   | -16.6515  | 18.0391          | 8.37128   | 1.97328        | -0.193509    | 81.1037   | -5.96295      | -0.0393809    | 0.423913 | nan       | nan      | nan       | nan         | nan            | nan            | nan            | nan      | nan                 | nan      | nan      | -5.0864  | 10.7444  | -0.497939 | 50   | 5.73888 | 3.4518  | -129.94  | -6.88391  | -8.61117 | 29.7177 | -13.984  | LON_DIR  | CAL_BEA  | BlairField | NCAA  | BW     | 20200214-BlairField-1 | feea3d48-4f99-11ea-9a79-e4a7a0511e7b | 88.9153       | nan       | nan              | 8.29431   | 1.45571            | 1.97736            | 0.193481           | nan              | nan              | nan              | 5f9402a1-8da2-4588-ac5c-e76318dd2ed7 | 87.9682 | 23.8123\n",
       "38      | 02/14/2020 | 06:22:45 PM | 3          | 2         | Stoutenborough, Sam | 1000016614 | Right         | CAL_BEA     | Malm, Aidan     | 1000049511 | Right      | LON_DIR    | Windup     | 1      | Bottom     | 2    | 0     | 1       | Slider          | Curveball     | BallCalled     | Undefined | Undefined  | Undefined  | 0          | 0          | nan   | 79.0833  | -0.461835    | -1.53314     | 2427.9   | 74.6838  | 8:30  | 5.64574   | 0.71439  | 6.37289   | -48.0277  | -3.89034         | -14.0534  | 1.2184         | -1.86751     | 72.4605   | -9.52338      | -4.21092      | 0.478161 | nan       | nan      | nan       | nan         | nan            | nan            | nan            | nan      | nan                 | nan      | nan      | 7.25274  | -1.99595 | -0.597391 | 50   | 5.59011 | 3.44637 | -115.091 | -2.17885  | 9.60528  | 23.8743 | -34.8174 | LON_DIR  | CAL_BEA  | BlairField | NCAA  | BW     | 20200214-BlairField-1 | 0db23992-4f9a-11ea-9a79-e4a7a0511e7b | 78.8277       | nan       | nan              | 6.6228    | 1.39529            | 1.2148             | 1.86908            | nan              | nan              | nan              | 5f9402a1-8da2-4588-ac5c-e76318dd2ed7 | 77.5707 | 30.7005\n",
       "39      | 02/14/2020 | 06:23:01 PM | 3          | 3         | Stoutenborough, Sam | 1000016614 | Right         | CAL_BEA     | Malm, Aidan     | 1000049511 | Right      | LON_DIR    | Windup     | 1      | Bottom     | 2    | 1     | 1       | Slider          | Curveball     | BallCalled     | Undefined | Undefined  | Undefined  | 0          | 0          | nan   | 79.0236  | -0.556129    | -0.530597    | 2423.73  | 81.7883  | 8:45  | 5.60201   | 0.858997 | 6.39135   | -46.254   | -2.57758         | -17.5767  | 1.23602        | -1.0937      | 73.1569   | -9.24216      | -3.8643       | 0.475658 | nan       | nan      | nan       | nan         | nan            | nan            | nan            | nan      | nan                 | nan      | nan      | 9.50516  | -1.26006 | -0.812756 | 50   | 5.54057 | 1.52673 | -115.126 | -2.3295   | 12.7487  | 21.502  | -33.8641 | LON_DIR  | CAL_BEA  | BlairField | NCAA  | BW     | 20200214-BlairField-1 | 1734b75c-4f9a-11ea-9a79-e4a7a0511e7b | 79.2426       | nan       | nan              | 5.8666    | 1.13908            | 1.19062            | 1.1125             | nan              | nan              | nan              | 5f9402a1-8da2-4588-ac5c-e76318dd2ed7 | 78.1134 | 30.671\n",
       "... (2338 rows omitted)"
      ]
     },
     "execution_count": 11,
     "metadata": {},
     "output_type": "execute_result"
    }
   ],
   "source": [
    "def bauer(spin, velo):\n",
    "    return spin/velo\n",
    "bauer_array = Cal_Pitchers.apply(bauer, \"SpinRate\", \"RelSpeed\")\n",
    "Cal_Pitchers = Cal_Pitchers.with_columns(\"Bauer Units\", bauer_array)\n",
    "Cal_Pitchers"
   ]
  },
  {
   "cell_type": "code",
   "execution_count": 12,
   "metadata": {},
   "outputs": [
    {
     "data": {
      "text/html": [
       "<table border=\"1\" class=\"dataframe\">\n",
       "    <thead>\n",
       "        <tr>\n",
       "            <th>Pitcher</th> <th>ChangeUp</th> <th>Curveball</th> <th>Cutter</th> <th>Fastball</th> <th>Other</th> <th>Sinker</th> <th>Slider</th> <th>Splitter</th> <th>Undefined</th>\n",
       "        </tr>\n",
       "    </thead>\n",
       "    <tbody>\n",
       "        <tr>\n",
       "            <td>Delmore, Jack      </td> <td>1364.54 </td> <td>0        </td> <td>0      </td> <td>1830.25 </td> <td>0      </td> <td>1858.13</td> <td>2004.44</td> <td>0       </td> <td>0        </td>\n",
       "        </tr>\n",
       "        <tr>\n",
       "            <td>Drogin, Reuben     </td> <td>0       </td> <td>0        </td> <td>0      </td> <td>2293.2  </td> <td>0      </td> <td>0      </td> <td>2251.88</td> <td>0       </td> <td>nan      </td>\n",
       "        </tr>\n",
       "        <tr>\n",
       "            <td>Gather, Lucas      </td> <td>1805.3  </td> <td>nan      </td> <td>2340.64</td> <td>2299.52 </td> <td>0      </td> <td>0      </td> <td>nan    </td> <td>0       </td> <td>0        </td>\n",
       "        </tr>\n",
       "        <tr>\n",
       "            <td>Holman, Grant      </td> <td>1363.03 </td> <td>1873.68  </td> <td>1996.61</td> <td>2005.89 </td> <td>1479.92</td> <td>0      </td> <td>nan    </td> <td>0       </td> <td>0        </td>\n",
       "        </tr>\n",
       "        <tr>\n",
       "            <td>King, Joseph       </td> <td>1645.18 </td> <td>2206.33  </td> <td>0      </td> <td>2117.32 </td> <td>0      </td> <td>2183.36</td> <td>2193.36</td> <td>1552.29 </td> <td>nan      </td>\n",
       "        </tr>\n",
       "        <tr>\n",
       "            <td>Mauterer, Vaughn   </td> <td>1778.35 </td> <td>2053.06  </td> <td>0      </td> <td>2095.58 </td> <td>0      </td> <td>0      </td> <td>2201.86</td> <td>1433.47 </td> <td>nan      </td>\n",
       "        </tr>\n",
       "        <tr>\n",
       "            <td>Olson, Carson      </td> <td>1722.8  </td> <td>2044.71  </td> <td>0      </td> <td>1947.79 </td> <td>0      </td> <td>0      </td> <td>nan    </td> <td>0       </td> <td>nan      </td>\n",
       "        </tr>\n",
       "        <tr>\n",
       "            <td>Proctor, Nick      </td> <td>1821.16 </td> <td>nan      </td> <td>0      </td> <td>2343.83 </td> <td>1306.44</td> <td>2234.68</td> <td>nan    </td> <td>0       </td> <td>nan      </td>\n",
       "        </tr>\n",
       "        <tr>\n",
       "            <td>Scott, Mitchell    </td> <td>1612.51 </td> <td>2349.3   </td> <td>0      </td> <td>2122.26 </td> <td>2669.05</td> <td>0      </td> <td>2543.6 </td> <td>0       </td> <td>nan      </td>\n",
       "        </tr>\n",
       "        <tr>\n",
       "            <td>Stoutenborough, Sam</td> <td>1476.39 </td> <td>nan      </td> <td>2154.69</td> <td>2172.94 </td> <td>0      </td> <td>2163.88</td> <td>nan    </td> <td>1454.74 </td> <td>nan      </td>\n",
       "        </tr>\n",
       "        <tr>\n",
       "            <td>Sullivan, Sean     </td> <td>1908.54 </td> <td>2329.38  </td> <td>2412.13</td> <td>2351.36 </td> <td>0      </td> <td>0      </td> <td>nan    </td> <td>0       </td> <td>0        </td>\n",
       "        </tr>\n",
       "        <tr>\n",
       "            <td>Villers, Ian       </td> <td>1978.34 </td> <td>nan      </td> <td>0      </td> <td>2288.72 </td> <td>0      </td> <td>0      </td> <td>nan    </td> <td>0       </td> <td>0        </td>\n",
       "        </tr>\n",
       "        <tr>\n",
       "            <td>White, Josh        </td> <td>1325.54 </td> <td>nan      </td> <td>2181.27</td> <td>2129.89 </td> <td>1176.43</td> <td>0      </td> <td>nan    </td> <td>1269.15 </td> <td>0        </td>\n",
       "        </tr>\n",
       "        <tr>\n",
       "            <td>White, Joshua      </td> <td>1302.34 </td> <td>nan      </td> <td>0      </td> <td>2134.2  </td> <td>0      </td> <td>0      </td> <td>nan    </td> <td>1305.96 </td> <td>0        </td>\n",
       "        </tr>\n",
       "        <tr>\n",
       "            <td>Wolger, Jack       </td> <td>1287.73 </td> <td>2068.86  </td> <td>0      </td> <td>1999.09 </td> <td>0      </td> <td>2094.32</td> <td>1987.67</td> <td>1349.41 </td> <td>0        </td>\n",
       "        </tr>\n",
       "        <tr>\n",
       "            <td>Zobac, Steven      </td> <td>1825.32 </td> <td>1930.25  </td> <td>2069.17</td> <td>2345.42 </td> <td>2085.65</td> <td>2317.96</td> <td>2132.74</td> <td>0       </td> <td>0        </td>\n",
       "        </tr>\n",
       "    </tbody>\n",
       "</table>"
      ],
      "text/plain": [
       "<IPython.core.display.HTML object>"
      ]
     },
     "metadata": {},
     "output_type": "display_data"
    }
   ],
   "source": [
    "def pivot_point(tbl,data_point):\n",
    "    false_pitchers = [\"Kay, Jesse\", \"Mcilwain, Brandon\", \"Reyes, Rogelio\", \"Vaughn, Andrew\"]\n",
    "    return tbl.pivot(\"AutoPitchType\", \"Pitcher\", data_point, np.mean).where(\"Pitcher\", are.not_contained_in(false_pitchers)).show()\n",
    "pivot_point(Cal_Pitchers, \"SpinRate\")"
   ]
  },
  {
   "cell_type": "code",
   "execution_count": 13,
   "metadata": {},
   "outputs": [
    {
     "data": {
      "text/html": [
       "<table border=\"1\" class=\"dataframe\">\n",
       "    <thead>\n",
       "        <tr>\n",
       "            <th>Pitcher</th> <th>ChangeUp</th> <th>Curveball</th> <th>Cutter</th> <th>Fastball</th> <th>Other</th> <th>Sinker</th> <th>Slider</th> <th>Splitter</th> <th>Undefined</th>\n",
       "        </tr>\n",
       "    </thead>\n",
       "    <tbody>\n",
       "        <tr>\n",
       "            <td>Delmore, Jack      </td> <td>80.9108 </td> <td>0        </td> <td>0      </td> <td>88.0501 </td> <td>0      </td> <td>87.4494</td> <td>81.9483</td> <td>0       </td> <td>0        </td>\n",
       "        </tr>\n",
       "        <tr>\n",
       "            <td>Drogin, Reuben     </td> <td>0       </td> <td>0        </td> <td>0      </td> <td>88.1593 </td> <td>0      </td> <td>0      </td> <td>79.6952</td> <td>0       </td> <td>nan      </td>\n",
       "        </tr>\n",
       "        <tr>\n",
       "            <td>Gather, Lucas      </td> <td>82.7154 </td> <td>75.508   </td> <td>89.5998</td> <td>89.9449 </td> <td>0      </td> <td>0      </td> <td>79.2648</td> <td>0       </td> <td>0        </td>\n",
       "        </tr>\n",
       "        <tr>\n",
       "            <td>Holman, Grant      </td> <td>81.7962 </td> <td>77.2312  </td> <td>89.5596</td> <td>91.2722 </td> <td>84.027 </td> <td>0      </td> <td>82.0405</td> <td>0       </td> <td>0        </td>\n",
       "        </tr>\n",
       "        <tr>\n",
       "            <td>King, Joseph       </td> <td>84.7843 </td> <td>79.9956  </td> <td>0      </td> <td>92.7963 </td> <td>0      </td> <td>89.1959</td> <td>85.7001</td> <td>84.8311 </td> <td>nan      </td>\n",
       "        </tr>\n",
       "        <tr>\n",
       "            <td>Mauterer, Vaughn   </td> <td>79.4826 </td> <td>72.4732  </td> <td>0      </td> <td>89.0348 </td> <td>0      </td> <td>0      </td> <td>81.3096</td> <td>79.2675 </td> <td>nan      </td>\n",
       "        </tr>\n",
       "        <tr>\n",
       "            <td>Olson, Carson      </td> <td>80.6033 </td> <td>77.1223  </td> <td>0      </td> <td>88.2076 </td> <td>0      </td> <td>0      </td> <td>77.8695</td> <td>0       </td> <td>nan      </td>\n",
       "        </tr>\n",
       "        <tr>\n",
       "            <td>Proctor, Nick      </td> <td>84.4048 </td> <td>78.3351  </td> <td>0      </td> <td>88.8868 </td> <td>81.1214</td> <td>86.7703</td> <td>80.5925</td> <td>0       </td> <td>nan      </td>\n",
       "        </tr>\n",
       "        <tr>\n",
       "            <td>Scott, Mitchell    </td> <td>79.1899 </td> <td>73.6443  </td> <td>0      </td> <td>87.2518 </td> <td>74.1753</td> <td>0      </td> <td>80.0184</td> <td>0       </td> <td>nan      </td>\n",
       "        </tr>\n",
       "        <tr>\n",
       "            <td>Stoutenborough, Sam</td> <td>78.4128 </td> <td>77.5236  </td> <td>85.9809</td> <td>87.5713 </td> <td>0      </td> <td>88.6013</td> <td>80.5324</td> <td>78.342  </td> <td>nan      </td>\n",
       "        </tr>\n",
       "        <tr>\n",
       "            <td>Sullivan, Sean     </td> <td>83.3604 </td> <td>78.2062  </td> <td>91.1737</td> <td>89.0297 </td> <td>0      </td> <td>0      </td> <td>81.5358</td> <td>0       </td> <td>0        </td>\n",
       "        </tr>\n",
       "        <tr>\n",
       "            <td>Villers, Ian       </td> <td>87.9252 </td> <td>80.0757  </td> <td>0      </td> <td>93.7705 </td> <td>0      </td> <td>0      </td> <td>85.1609</td> <td>0       </td> <td>0        </td>\n",
       "        </tr>\n",
       "        <tr>\n",
       "            <td>White, Josh        </td> <td>81.6785 </td> <td>78.3454  </td> <td>90.8164</td> <td>89.093  </td> <td>78.7254</td> <td>0      </td> <td>79.3841</td> <td>80.8568 </td> <td>0        </td>\n",
       "        </tr>\n",
       "        <tr>\n",
       "            <td>White, Joshua      </td> <td>80.4732 </td> <td>79.0845  </td> <td>0      </td> <td>89.097  </td> <td>0      </td> <td>0      </td> <td>79.7604</td> <td>79.0226 </td> <td>0        </td>\n",
       "        </tr>\n",
       "        <tr>\n",
       "            <td>Wolger, Jack       </td> <td>76.8294 </td> <td>70.0432  </td> <td>0      </td> <td>83.9342 </td> <td>0      </td> <td>84.1063</td> <td>75.042 </td> <td>77.4988 </td> <td>0        </td>\n",
       "        </tr>\n",
       "        <tr>\n",
       "            <td>Zobac, Steven      </td> <td>81.6551 </td> <td>76.1269  </td> <td>83.9232</td> <td>89.5528 </td> <td>88.1974</td> <td>88.8045</td> <td>82.921 </td> <td>0       </td> <td>0        </td>\n",
       "        </tr>\n",
       "    </tbody>\n",
       "</table>"
      ],
      "text/plain": [
       "<IPython.core.display.HTML object>"
      ]
     },
     "metadata": {},
     "output_type": "display_data"
    }
   ],
   "source": [
    "pivot_point(Cal_Pitchers, \"RelSpeed\")"
   ]
  },
  {
   "cell_type": "code",
   "execution_count": 14,
   "metadata": {},
   "outputs": [
    {
     "data": {
      "text/html": [
       "<table border=\"1\" class=\"dataframe\">\n",
       "    <thead>\n",
       "        <tr>\n",
       "            <th>Pitcher</th> <th>ChangeUp</th> <th>Curveball</th> <th>Cutter</th> <th>Fastball</th> <th>Other</th> <th>Sinker</th> <th>Slider</th> <th>Splitter</th> <th>Undefined</th>\n",
       "        </tr>\n",
       "    </thead>\n",
       "    <tbody>\n",
       "        <tr>\n",
       "            <td>Delmore, Jack      </td> <td>16.8735 </td> <td>0        </td> <td>0      </td> <td>20.783  </td> <td>0      </td> <td>21.2473</td> <td>24.4625</td> <td>0       </td> <td>0        </td>\n",
       "        </tr>\n",
       "        <tr>\n",
       "            <td>Drogin, Reuben     </td> <td>0       </td> <td>0        </td> <td>0      </td> <td>26.0128 </td> <td>0      </td> <td>0      </td> <td>28.2657</td> <td>0       </td> <td>nan      </td>\n",
       "        </tr>\n",
       "        <tr>\n",
       "            <td>Gather, Lucas      </td> <td>21.8288 </td> <td>nan      </td> <td>26.1232</td> <td>25.5659 </td> <td>0      </td> <td>0      </td> <td>nan    </td> <td>0       </td> <td>0        </td>\n",
       "        </tr>\n",
       "        <tr>\n",
       "            <td>Holman, Grant      </td> <td>16.6735 </td> <td>24.2558  </td> <td>22.2833</td> <td>21.9775 </td> <td>17.5202</td> <td>0      </td> <td>nan    </td> <td>0       </td> <td>0        </td>\n",
       "        </tr>\n",
       "        <tr>\n",
       "            <td>King, Joseph       </td> <td>19.4075 </td> <td>27.5726  </td> <td>0      </td> <td>22.8157 </td> <td>0      </td> <td>24.4775</td> <td>25.6014</td> <td>18.2995 </td> <td>nan      </td>\n",
       "        </tr>\n",
       "        <tr>\n",
       "            <td>Mauterer, Vaughn   </td> <td>22.283  </td> <td>28.3286  </td> <td>0      </td> <td>23.5349 </td> <td>0      </td> <td>0      </td> <td>27.0826</td> <td>18.084  </td> <td>nan      </td>\n",
       "        </tr>\n",
       "        <tr>\n",
       "            <td>Olson, Carson      </td> <td>21.3757 </td> <td>26.5092  </td> <td>0      </td> <td>22.0833 </td> <td>0      </td> <td>0      </td> <td>nan    </td> <td>0       </td> <td>nan      </td>\n",
       "        </tr>\n",
       "        <tr>\n",
       "            <td>Proctor, Nick      </td> <td>21.5788 </td> <td>nan      </td> <td>0      </td> <td>26.3699 </td> <td>15.9817</td> <td>25.7276</td> <td>nan    </td> <td>0       </td> <td>nan      </td>\n",
       "        </tr>\n",
       "        <tr>\n",
       "            <td>Scott, Mitchell    </td> <td>20.3665 </td> <td>31.9603  </td> <td>0      </td> <td>24.3231 </td> <td>35.983 </td> <td>0      </td> <td>31.7877</td> <td>0       </td> <td>nan      </td>\n",
       "        </tr>\n",
       "        <tr>\n",
       "            <td>Stoutenborough, Sam</td> <td>18.8192 </td> <td>nan      </td> <td>25.0602</td> <td>24.8137 </td> <td>0      </td> <td>24.423 </td> <td>nan    </td> <td>18.5673 </td> <td>nan      </td>\n",
       "        </tr>\n",
       "        <tr>\n",
       "            <td>Sullivan, Sean     </td> <td>22.9056 </td> <td>29.7864  </td> <td>26.4568</td> <td>26.4118 </td> <td>0      </td> <td>0      </td> <td>nan    </td> <td>0       </td> <td>0        </td>\n",
       "        </tr>\n",
       "        <tr>\n",
       "            <td>Villers, Ian       </td> <td>22.5003 </td> <td>nan      </td> <td>0      </td> <td>24.4063 </td> <td>0      </td> <td>0      </td> <td>nan    </td> <td>0       </td> <td>0        </td>\n",
       "        </tr>\n",
       "        <tr>\n",
       "            <td>White, Josh        </td> <td>16.229  </td> <td>nan      </td> <td>24.0194</td> <td>23.9073 </td> <td>14.9463</td> <td>0      </td> <td>nan    </td> <td>15.6963 </td> <td>0        </td>\n",
       "        </tr>\n",
       "        <tr>\n",
       "            <td>White, Joshua      </td> <td>16.1797 </td> <td>nan      </td> <td>0      </td> <td>23.9545 </td> <td>0      </td> <td>0      </td> <td>nan    </td> <td>16.5264 </td> <td>0        </td>\n",
       "        </tr>\n",
       "        <tr>\n",
       "            <td>Wolger, Jack       </td> <td>16.7611 </td> <td>29.6346  </td> <td>0      </td> <td>23.8189 </td> <td>0      </td> <td>24.9009</td> <td>26.4859</td> <td>17.4091 </td> <td>0        </td>\n",
       "        </tr>\n",
       "        <tr>\n",
       "            <td>Zobac, Steven      </td> <td>22.3011 </td> <td>25.3499  </td> <td>24.6553</td> <td>26.1866 </td> <td>23.3457</td> <td>26.1032</td> <td>25.7205</td> <td>0       </td> <td>0        </td>\n",
       "        </tr>\n",
       "    </tbody>\n",
       "</table>"
      ],
      "text/plain": [
       "<IPython.core.display.HTML object>"
      ]
     },
     "metadata": {},
     "output_type": "display_data"
    }
   ],
   "source": [
    "pivot_point(Cal_Pitchers, \"Bauer Units\")"
   ]
  },
  {
   "cell_type": "code",
   "execution_count": 15,
   "metadata": {},
   "outputs": [
    {
     "data": {
      "text/html": [
       "<table border=\"1\" class=\"dataframe\">\n",
       "    <thead>\n",
       "        <tr>\n",
       "            <th>Pitcher</th> <th>ChangeUp</th> <th>Curveball</th> <th>Cutter</th> <th>Fastball</th> <th>Other</th> <th>Sinker</th> <th>Slider</th> <th>Splitter</th> <th>Undefined</th>\n",
       "        </tr>\n",
       "    </thead>\n",
       "    <tbody>\n",
       "        <tr>\n",
       "            <td>Delmore, Jack      </td> <td>6.06801 </td> <td>0        </td> <td>0      </td> <td>6.15332 </td> <td>0      </td> <td>6.65904</td> <td>6.3276 </td> <td>0       </td> <td>0        </td>\n",
       "        </tr>\n",
       "        <tr>\n",
       "            <td>Drogin, Reuben     </td> <td>0       </td> <td>0        </td> <td>0      </td> <td>5.41522 </td> <td>0      </td> <td>0      </td> <td>5.22484</td> <td>0       </td> <td>nan      </td>\n",
       "        </tr>\n",
       "        <tr>\n",
       "            <td>Gather, Lucas      </td> <td>6.3315  </td> <td>5.6545   </td> <td>6.72649</td> <td>6.50125 </td> <td>0      </td> <td>0      </td> <td>6.0095 </td> <td>0       </td> <td>0        </td>\n",
       "        </tr>\n",
       "        <tr>\n",
       "            <td>Holman, Grant      </td> <td>7.17565 </td> <td>6.61769  </td> <td>7.24165</td> <td>7.08711 </td> <td>6.67045</td> <td>0      </td> <td>6.70136</td> <td>0       </td> <td>0        </td>\n",
       "        </tr>\n",
       "        <tr>\n",
       "            <td>King, Joseph       </td> <td>5.93406 </td> <td>5.82343  </td> <td>0      </td> <td>6.20039 </td> <td>0      </td> <td>6.39868</td> <td>5.95607</td> <td>5.7273  </td> <td>nan      </td>\n",
       "        </tr>\n",
       "        <tr>\n",
       "            <td>Mauterer, Vaughn   </td> <td>6.66315 </td> <td>6.28063  </td> <td>0      </td> <td>6.62044 </td> <td>0      </td> <td>0      </td> <td>6.55498</td> <td>6.56024 </td> <td>nan      </td>\n",
       "        </tr>\n",
       "        <tr>\n",
       "            <td>Olson, Carson      </td> <td>5.94145 </td> <td>5.39727  </td> <td>0      </td> <td>5.56124 </td> <td>0      </td> <td>0      </td> <td>5.32158</td> <td>0       </td> <td>nan      </td>\n",
       "        </tr>\n",
       "        <tr>\n",
       "            <td>Proctor, Nick      </td> <td>6.24109 </td> <td>5.15689  </td> <td>0      </td> <td>5.83686 </td> <td>5.53015</td> <td>6.01238</td> <td>5.62854</td> <td>0       </td> <td>nan      </td>\n",
       "        </tr>\n",
       "        <tr>\n",
       "            <td>Scott, Mitchell    </td> <td>6.56153 </td> <td>5.81514  </td> <td>0      </td> <td>6.21305 </td> <td>5.03   </td> <td>0      </td> <td>5.63771</td> <td>0       </td> <td>nan      </td>\n",
       "        </tr>\n",
       "        <tr>\n",
       "            <td>Stoutenborough, Sam</td> <td>7.07767 </td> <td>6.22107  </td> <td>6.52893</td> <td>6.57096 </td> <td>0      </td> <td>6.84719</td> <td>6.61463</td> <td>6.99349 </td> <td>nan      </td>\n",
       "        </tr>\n",
       "        <tr>\n",
       "            <td>Sullivan, Sean     </td> <td>6.80169 </td> <td>6.20977  </td> <td>7.1897 </td> <td>7.10206 </td> <td>0      </td> <td>0      </td> <td>6.39314</td> <td>0       </td> <td>0        </td>\n",
       "        </tr>\n",
       "        <tr>\n",
       "            <td>Villers, Ian       </td> <td>6.42249 </td> <td>6.06037  </td> <td>0      </td> <td>6.19096 </td> <td>0      </td> <td>0      </td> <td>6.0989 </td> <td>0       </td> <td>0        </td>\n",
       "        </tr>\n",
       "        <tr>\n",
       "            <td>White, Josh        </td> <td>6.47051 </td> <td>6.06451  </td> <td>6.78566</td> <td>6.79204 </td> <td>6.23274</td> <td>0      </td> <td>6.16909</td> <td>6.6899  </td> <td>0        </td>\n",
       "        </tr>\n",
       "        <tr>\n",
       "            <td>White, Joshua      </td> <td>6.70715 </td> <td>6.31672  </td> <td>0      </td> <td>7.14466 </td> <td>0      </td> <td>0      </td> <td>6.50299</td> <td>6.69259 </td> <td>0        </td>\n",
       "        </tr>\n",
       "        <tr>\n",
       "            <td>Wolger, Jack       </td> <td>6.3107  </td> <td>6.19968  </td> <td>0      </td> <td>6.83346 </td> <td>0      </td> <td>6.88514</td> <td>6.17495</td> <td>6.42577 </td> <td>0        </td>\n",
       "        </tr>\n",
       "        <tr>\n",
       "            <td>Zobac, Steven      </td> <td>6.78232 </td> <td>6.16415  </td> <td>6.60082</td> <td>6.66681 </td> <td>6.33504</td> <td>6.52396</td> <td>6.42041</td> <td>0       </td> <td>0        </td>\n",
       "        </tr>\n",
       "    </tbody>\n",
       "</table>"
      ],
      "text/plain": [
       "<IPython.core.display.HTML object>"
      ]
     },
     "metadata": {},
     "output_type": "display_data"
    }
   ],
   "source": [
    "pivot_point(Cal_Pitchers, \"Extension\")"
   ]
  },
  {
   "cell_type": "code",
   "execution_count": 16,
   "metadata": {},
   "outputs": [
    {
     "data": {
      "text/html": [
       "<table border=\"1\" class=\"dataframe\">\n",
       "    <thead>\n",
       "        <tr>\n",
       "            <th>Pitcher</th> <th>ChangeUp</th> <th>Curveball</th> <th>Cutter</th> <th>Fastball</th> <th>Other</th> <th>Sinker</th> <th>Slider</th> <th>Splitter</th> <th>Undefined</th>\n",
       "        </tr>\n",
       "    </thead>\n",
       "    <tbody>\n",
       "        <tr>\n",
       "            <td>Delmore, Jack      </td> <td>13.7499 </td> <td>0        </td> <td>0      </td> <td>13.3815 </td> <td>0        </td> <td>4.63243</td> <td>6.68098</td> <td>0        </td> <td>0        </td>\n",
       "        </tr>\n",
       "        <tr>\n",
       "            <td>Drogin, Reuben     </td> <td>0       </td> <td>0        </td> <td>0      </td> <td>20.2065 </td> <td>0        </td> <td>0      </td> <td>6.39748</td> <td>0        </td> <td>nan      </td>\n",
       "        </tr>\n",
       "        <tr>\n",
       "            <td>Gather, Lucas      </td> <td>13.5924 </td> <td>2.41928  </td> <td>18.974 </td> <td>16.2939 </td> <td>0        </td> <td>0      </td> <td>3.32075</td> <td>0        </td> <td>0        </td>\n",
       "        </tr>\n",
       "        <tr>\n",
       "            <td>Holman, Grant      </td> <td>14.95   </td> <td>-4.45367 </td> <td>17.9246</td> <td>16.2489 </td> <td>7.61155  </td> <td>0      </td> <td>2.73171</td> <td>0        </td> <td>0        </td>\n",
       "        </tr>\n",
       "        <tr>\n",
       "            <td>King, Joseph       </td> <td>7.6599  </td> <td>-3.61796 </td> <td>0      </td> <td>22.0322 </td> <td>0        </td> <td>7.27675</td> <td>7.11955</td> <td>0.734845 </td> <td>nan      </td>\n",
       "        </tr>\n",
       "        <tr>\n",
       "            <td>Mauterer, Vaughn   </td> <td>7.46765 </td> <td>-2.96627 </td> <td>0      </td> <td>17.6916 </td> <td>0        </td> <td>0      </td> <td>6.27483</td> <td>3.61458  </td> <td>nan      </td>\n",
       "        </tr>\n",
       "        <tr>\n",
       "            <td>Olson, Carson      </td> <td>8.29549 </td> <td>1.86554  </td> <td>0      </td> <td>16.3077 </td> <td>0        </td> <td>0      </td> <td>5.84793</td> <td>0        </td> <td>nan      </td>\n",
       "        </tr>\n",
       "        <tr>\n",
       "            <td>Proctor, Nick      </td> <td>2.85926 </td> <td>-2.13803 </td> <td>0      </td> <td>14.7615 </td> <td>-0.357728</td> <td>2.97739</td> <td>4.31613</td> <td>0        </td> <td>nan      </td>\n",
       "        </tr>\n",
       "        <tr>\n",
       "            <td>Scott, Mitchell    </td> <td>15.3185 </td> <td>-8.34345 </td> <td>0      </td> <td>20.3959 </td> <td>-19.4628 </td> <td>0      </td> <td>5.38204</td> <td>0        </td> <td>nan      </td>\n",
       "        </tr>\n",
       "        <tr>\n",
       "            <td>Stoutenborough, Sam</td> <td>7.41377 </td> <td>-5.33982 </td> <td>19.0674</td> <td>16.9753 </td> <td>0        </td> <td>9.86441</td> <td>4.13291</td> <td>2.82418  </td> <td>nan      </td>\n",
       "        </tr>\n",
       "        <tr>\n",
       "            <td>Sullivan, Sean     </td> <td>16.2434 </td> <td>1.51351  </td> <td>13.0475</td> <td>19.1671 </td> <td>0        </td> <td>0      </td> <td>4.70827</td> <td>0        </td> <td>0        </td>\n",
       "        </tr>\n",
       "        <tr>\n",
       "            <td>Villers, Ian       </td> <td>11.5644 </td> <td>-2.26954 </td> <td>0      </td> <td>19.2761 </td> <td>0        </td> <td>0      </td> <td>5.97841</td> <td>0        </td> <td>0        </td>\n",
       "        </tr>\n",
       "        <tr>\n",
       "            <td>White, Josh        </td> <td>10.9327 </td> <td>1.54758  </td> <td>19.4402</td> <td>18.2938 </td> <td>10.3815  </td> <td>0      </td> <td>7.28393</td> <td>10.1548  </td> <td>0        </td>\n",
       "        </tr>\n",
       "        <tr>\n",
       "            <td>White, Joshua      </td> <td>11.403  </td> <td>-1.1772  </td> <td>0      </td> <td>18.0805 </td> <td>0        </td> <td>0      </td> <td>6.06828</td> <td>5.6261   </td> <td>0        </td>\n",
       "        </tr>\n",
       "        <tr>\n",
       "            <td>Wolger, Jack       </td> <td>10.2436 </td> <td>-5.39514 </td> <td>0      </td> <td>16.2387 </td> <td>0        </td> <td>8.23355</td> <td>1.75222</td> <td>-0.918581</td> <td>0        </td>\n",
       "        </tr>\n",
       "        <tr>\n",
       "            <td>Zobac, Steven      </td> <td>11.4164 </td> <td>-7.34635 </td> <td>15.0806</td> <td>18.2357 </td> <td>27.7332  </td> <td>5.24667</td> <td>5.81508</td> <td>0        </td> <td>0        </td>\n",
       "        </tr>\n",
       "    </tbody>\n",
       "</table>"
      ],
      "text/plain": [
       "<IPython.core.display.HTML object>"
      ]
     },
     "metadata": {},
     "output_type": "display_data"
    }
   ],
   "source": [
    "pivot_point(Cal_Pitchers, \"InducedVertBreak\")"
   ]
  },
  {
   "cell_type": "code",
   "execution_count": 17,
   "metadata": {},
   "outputs": [
    {
     "data": {
      "text/html": [
       "<table border=\"1\" class=\"dataframe\">\n",
       "    <thead>\n",
       "        <tr>\n",
       "            <th>Pitcher</th> <th>ChangeUp</th> <th>Curveball</th> <th>Cutter</th> <th>Fastball</th> <th>Other</th> <th>Sinker</th> <th>Slider</th> <th>Splitter</th> <th>Undefined</th>\n",
       "        </tr>\n",
       "    </thead>\n",
       "    <tbody>\n",
       "        <tr>\n",
       "            <td>Delmore, Jack      </td> <td>7.82173 </td> <td>0        </td> <td>0       </td> <td>14.4005 </td> <td>0        </td> <td>19.6357 </td> <td>-1.15228 </td> <td>0       </td> <td>0        </td>\n",
       "        </tr>\n",
       "        <tr>\n",
       "            <td>Drogin, Reuben     </td> <td>0       </td> <td>0        </td> <td>0       </td> <td>13.7399 </td> <td>0        </td> <td>0       </td> <td>-0.310429</td> <td>0       </td> <td>nan      </td>\n",
       "        </tr>\n",
       "        <tr>\n",
       "            <td>Gather, Lucas      </td> <td>-12.4601</td> <td>8.12223  </td> <td>-1.70072</td> <td>-10.5935</td> <td>0        </td> <td>0       </td> <td>6.45278  </td> <td>0       </td> <td>0        </td>\n",
       "        </tr>\n",
       "        <tr>\n",
       "            <td>Holman, Grant      </td> <td>4.28264 </td> <td>-12.2387 </td> <td>-1.53299</td> <td>5.94242 </td> <td>-12.4665 </td> <td>0       </td> <td>-5.751   </td> <td>0       </td> <td>0        </td>\n",
       "        </tr>\n",
       "        <tr>\n",
       "            <td>King, Joseph       </td> <td>8.68952 </td> <td>-12.1174 </td> <td>0       </td> <td>4.61569 </td> <td>0        </td> <td>3.55632 </td> <td>-2.91491 </td> <td>8.42086 </td> <td>nan      </td>\n",
       "        </tr>\n",
       "        <tr>\n",
       "            <td>Mauterer, Vaughn   </td> <td>5.63482 </td> <td>-15.6159 </td> <td>0       </td> <td>8.0862  </td> <td>0        </td> <td>0       </td> <td>-2.14565 </td> <td>12.5678 </td> <td>nan      </td>\n",
       "        </tr>\n",
       "        <tr>\n",
       "            <td>Olson, Carson      </td> <td>13.9729 </td> <td>-9.04188 </td> <td>0       </td> <td>10.5913 </td> <td>0        </td> <td>0       </td> <td>-6.22943 </td> <td>0       </td> <td>nan      </td>\n",
       "        </tr>\n",
       "        <tr>\n",
       "            <td>Proctor, Nick      </td> <td>11.1145 </td> <td>-16.0305 </td> <td>0       </td> <td>10.9246 </td> <td>-4.42006 </td> <td>13.371  </td> <td>-7.7603  </td> <td>0       </td> <td>nan      </td>\n",
       "        </tr>\n",
       "        <tr>\n",
       "            <td>Scott, Mitchell    </td> <td>8.54635 </td> <td>-7.35759 </td> <td>0       </td> <td>5.32686 </td> <td>-2.73702 </td> <td>0       </td> <td>-6.47186 </td> <td>0       </td> <td>nan      </td>\n",
       "        </tr>\n",
       "        <tr>\n",
       "            <td>Stoutenborough, Sam</td> <td>12.6847 </td> <td>-12.4223 </td> <td>1.02638 </td> <td>8.55632 </td> <td>0        </td> <td>16.1478 </td> <td>-5.13426 </td> <td>12.7237 </td> <td>nan      </td>\n",
       "        </tr>\n",
       "        <tr>\n",
       "            <td>Sullivan, Sean     </td> <td>11.5092 </td> <td>-10.3885 </td> <td>0.40898 </td> <td>6.73201 </td> <td>0        </td> <td>0       </td> <td>-5.91353 </td> <td>0       </td> <td>0        </td>\n",
       "        </tr>\n",
       "        <tr>\n",
       "            <td>Villers, Ian       </td> <td>2.91339 </td> <td>-5.53651 </td> <td>0       </td> <td>7.93599 </td> <td>0        </td> <td>0       </td> <td>-5.29468 </td> <td>0       </td> <td>0        </td>\n",
       "        </tr>\n",
       "        <tr>\n",
       "            <td>White, Josh        </td> <td>5.26804 </td> <td>-12.9902 </td> <td>-5.63992</td> <td>9.23419 </td> <td>-7.90507 </td> <td>0       </td> <td>-7.6623  </td> <td>7.05601 </td> <td>0        </td>\n",
       "        </tr>\n",
       "        <tr>\n",
       "            <td>White, Joshua      </td> <td>5.3338  </td> <td>-10.8716 </td> <td>0       </td> <td>9.38073 </td> <td>0        </td> <td>0       </td> <td>-8.44739 </td> <td>8.60526 </td> <td>0        </td>\n",
       "        </tr>\n",
       "        <tr>\n",
       "            <td>Wolger, Jack       </td> <td>-7.94868</td> <td>12.2004  </td> <td>0       </td> <td>-6.75556</td> <td>0        </td> <td>-6.26259</td> <td>7.27758  </td> <td>-9.0453 </td> <td>0        </td>\n",
       "        </tr>\n",
       "        <tr>\n",
       "            <td>Zobac, Steven      </td> <td>7.13451 </td> <td>-8.51512 </td> <td>-3.91256</td> <td>8.43184 </td> <td>-0.614353</td> <td>17.409  </td> <td>-1.24166 </td> <td>0       </td> <td>0        </td>\n",
       "        </tr>\n",
       "    </tbody>\n",
       "</table>"
      ],
      "text/plain": [
       "<IPython.core.display.HTML object>"
      ]
     },
     "metadata": {},
     "output_type": "display_data"
    }
   ],
   "source": [
    "pivot_point(Cal_Pitchers, \"HorzBreak\")"
   ]
  },
  {
   "cell_type": "code",
   "execution_count": 18,
   "metadata": {},
   "outputs": [
    {
     "data": {
      "text/html": [
       "<table border=\"1\" class=\"dataframe\">\n",
       "    <thead>\n",
       "        <tr>\n",
       "            <th>Pitcher</th> <th>ChangeUp</th> <th>Curveball</th> <th>Cutter</th> <th>Fastball</th> <th>Other</th> <th>Sinker</th> <th>Slider</th> <th>Splitter</th> <th>Undefined</th>\n",
       "        </tr>\n",
       "    </thead>\n",
       "    <tbody>\n",
       "        <tr>\n",
       "            <td>Delmore, Jack      </td> <td>0.863885</td> <td>0        </td> <td>0        </td> <td>1.01028  </td> <td>0       </td> <td>0.499036</td> <td>0.689572</td> <td>0        </td> <td>0        </td>\n",
       "        </tr>\n",
       "        <tr>\n",
       "            <td>Drogin, Reuben     </td> <td>0       </td> <td>0        </td> <td>0        </td> <td>0.395587 </td> <td>0       </td> <td>0       </td> <td>0.26797 </td> <td>0        </td> <td>nan      </td>\n",
       "        </tr>\n",
       "        <tr>\n",
       "            <td>Gather, Lucas      </td> <td>-2.01795</td> <td>-1.67455 </td> <td>-2.04835 </td> <td>-1.82033 </td> <td>0       </td> <td>0       </td> <td>-1.8509 </td> <td>0        </td> <td>0        </td>\n",
       "        </tr>\n",
       "        <tr>\n",
       "            <td>Holman, Grant      </td> <td>1.12065 </td> <td>1.05714  </td> <td>1.22149  </td> <td>1.22756  </td> <td>1.16144 </td> <td>0       </td> <td>1.14741 </td> <td>0        </td> <td>0        </td>\n",
       "        </tr>\n",
       "        <tr>\n",
       "            <td>King, Joseph       </td> <td>0.522054</td> <td>0.118939 </td> <td>0        </td> <td>0.0940244</td> <td>0       </td> <td>0.193278</td> <td>0.453951</td> <td>0.539979 </td> <td>nan      </td>\n",
       "        </tr>\n",
       "        <tr>\n",
       "            <td>Mauterer, Vaughn   </td> <td>1.30658 </td> <td>1.33259  </td> <td>0        </td> <td>1.01101  </td> <td>0       </td> <td>0       </td> <td>1.17158 </td> <td>0.926696 </td> <td>nan      </td>\n",
       "        </tr>\n",
       "        <tr>\n",
       "            <td>Olson, Carson      </td> <td>1.58332 </td> <td>1.85252  </td> <td>0        </td> <td>1.52671  </td> <td>0       </td> <td>0       </td> <td>1.7378  </td> <td>0        </td> <td>nan      </td>\n",
       "        </tr>\n",
       "        <tr>\n",
       "            <td>Proctor, Nick      </td> <td>1.88777 </td> <td>1.83003  </td> <td>0        </td> <td>1.746    </td> <td>1.81558 </td> <td>1.78409 </td> <td>1.73895 </td> <td>0        </td> <td>nan      </td>\n",
       "        </tr>\n",
       "        <tr>\n",
       "            <td>Scott, Mitchell    </td> <td>0.512012</td> <td>0.291231 </td> <td>0        </td> <td>0.282421 </td> <td>0.288176</td> <td>0       </td> <td>1.90137 </td> <td>0        </td> <td>nan      </td>\n",
       "        </tr>\n",
       "        <tr>\n",
       "            <td>Stoutenborough, Sam</td> <td>0.738773</td> <td>0.716895 </td> <td>0.345134 </td> <td>0.626119 </td> <td>0       </td> <td>0.934336</td> <td>0.606098</td> <td>0.726354 </td> <td>nan      </td>\n",
       "        </tr>\n",
       "        <tr>\n",
       "            <td>Sullivan, Sean     </td> <td>1.00578 </td> <td>1.19945  </td> <td>1.49725  </td> <td>1.09392  </td> <td>0       </td> <td>0       </td> <td>1.09483 </td> <td>0        </td> <td>0        </td>\n",
       "        </tr>\n",
       "        <tr>\n",
       "            <td>Villers, Ian       </td> <td>0.469455</td> <td>0.519965 </td> <td>0        </td> <td>0.609533 </td> <td>0       </td> <td>0       </td> <td>0.805288</td> <td>0        </td> <td>0        </td>\n",
       "        </tr>\n",
       "        <tr>\n",
       "            <td>White, Josh        </td> <td>0.437451</td> <td>0.440954 </td> <td>0.0895148</td> <td>0.338341 </td> <td>0.460264</td> <td>0       </td> <td>0.56051 </td> <td>0.50859  </td> <td>0        </td>\n",
       "        </tr>\n",
       "        <tr>\n",
       "            <td>White, Joshua      </td> <td>0.173494</td> <td>0.0960684</td> <td>0        </td> <td>0.037245 </td> <td>0       </td> <td>0       </td> <td>0.324125</td> <td>0.0618934</td> <td>0        </td>\n",
       "        </tr>\n",
       "        <tr>\n",
       "            <td>Wolger, Jack       </td> <td>-2.59544</td> <td>-2.45675 </td> <td>0        </td> <td>-2.49422 </td> <td>0       </td> <td>-2.96387</td> <td>-2.59946</td> <td>-2.27218 </td> <td>0        </td>\n",
       "        </tr>\n",
       "        <tr>\n",
       "            <td>Zobac, Steven      </td> <td>1.11418 </td> <td>0.876991 </td> <td>1.13242  </td> <td>0.933603 </td> <td>1.40921 </td> <td>0.959025</td> <td>0.743804</td> <td>0        </td> <td>0        </td>\n",
       "        </tr>\n",
       "    </tbody>\n",
       "</table>"
      ],
      "text/plain": [
       "<IPython.core.display.HTML object>"
      ]
     },
     "metadata": {},
     "output_type": "display_data"
    }
   ],
   "source": [
    "pivot_point(Cal_Pitchers, \"RelSide\")"
   ]
  },
  {
   "cell_type": "code",
   "execution_count": null,
   "metadata": {},
   "outputs": [],
   "source": []
  },
  {
   "cell_type": "code",
   "execution_count": null,
   "metadata": {},
   "outputs": [],
   "source": []
  },
  {
   "cell_type": "code",
   "execution_count": null,
   "metadata": {},
   "outputs": [],
   "source": []
  }
 ],
 "metadata": {
  "kernelspec": {
   "display_name": "Python 3",
   "language": "python",
   "name": "python3"
  },
  "language_info": {
   "codemirror_mode": {
    "name": "ipython",
    "version": 3
   },
   "file_extension": ".py",
   "mimetype": "text/x-python",
   "name": "python",
   "nbconvert_exporter": "python",
   "pygments_lexer": "ipython3",
   "version": "3.8.5"
  }
 },
 "nbformat": 4,
 "nbformat_minor": 4
}
